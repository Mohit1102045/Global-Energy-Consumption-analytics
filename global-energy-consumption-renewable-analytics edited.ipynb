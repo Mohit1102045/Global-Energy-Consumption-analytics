{
 "cells": [
  {
   "cell_type": "markdown",
   "id": "223a1709",
   "metadata": {
    "papermill": {
     "duration": 0.131983,
     "end_time": "2022-06-10T11:15:52.977236",
     "exception": false,
     "start_time": "2022-06-10T11:15:52.845253",
     "status": "completed"
    },
    "tags": []
   },
   "source": [
    "# Global Energy Consumption Analytics\n",
    "\n"
   ]
  },
  {
   "cell_type": "markdown",
   "id": "c25b2077",
   "metadata": {
    "papermill": {
     "duration": 0.138552,
     "end_time": "2022-06-10T11:15:54.833640",
     "exception": false,
     "start_time": "2022-06-10T11:15:54.695088",
     "status": "completed"
    },
    "tags": []
   },
   "source": [
    "<div class=h1> Introduction </div>\n",
    "\n",
    "Global energy consumption is the amount of power used providing by different type of non-renewable and renewable energy source.\n",
    "\n",
    "World energy supply and consumption is global production and preparation of fuel, power generation, energy transport and energy consumption. Many countries need energy supply and consumption for its developpment, for its economic and also for its industrialization. \n",
    "\n",
    "Energy consumption for some countries in the world is very high than others countries. For example, China consumes energy 1.67 time than USA, 2 times  than Canada and most 5 times than the rest of the world. \n",
    "\n",
    "Several developping countries uses renewable energy like Hydo, Biofuel etc... that is good for climate change."
   ]
  },
  {
   "cell_type": "code",
   "execution_count": null,
   "id": "bbf3a813",
   "metadata": {
    "_kg_hide-input": true,
    "execution": {
     "iopub.execute_input": "2022-06-10T11:15:55.011662Z",
     "iopub.status.busy": "2022-06-10T11:15:55.011138Z",
     "iopub.status.idle": "2022-06-10T11:15:56.416178Z",
     "shell.execute_reply": "2022-06-10T11:15:56.415531Z",
     "shell.execute_reply.started": "2022-06-10T10:15:02.311264Z"
    },
    "papermill": {
     "duration": 1.491029,
     "end_time": "2022-06-10T11:15:56.416386",
     "exception": false,
     "start_time": "2022-06-10T11:15:54.925357",
     "status": "completed"
    },
    "tags": []
   },
   "outputs": [],
   "source": [
    "import numpy as np\n",
    "import pandas as pd\n",
    "import matplotlib.pyplot as plt\n",
    "import seaborn as sns\n",
    "import statsmodels as sm\n",
    "from statsmodels.tsa import seasonal\n",
    "import scipy \n",
    "import path\n",
    "from sklearn.decomposition import FactorAnalysis, PCA \n",
    "from sklearn.preprocessing import MinMaxScaler, RobustScaler, MaxAbsScaler, Normalizer \n",
    "from sklearn.pipeline import Pipeline\n",
    "from mpl_toolkits.mplot3d import Axes3D\n",
    "from sklearn.cluster import AgglomerativeClustering\n",
    "from scipy.cluster.hierarchy import dendrogram\n",
    "from scipy.cluster.hierarchy import ward, dendrogram, complete, single, average\n",
    "from sklearn.metrics.pairwise import cosine_similarity, euclidean_distances\n",
    "from ipywidgets import widgets, VBox\n",
    "from warnings import filterwarnings "
   ]
  },
  {
   "cell_type": "code",
   "execution_count": null,
   "id": "c3afb7fd",
   "metadata": {
    "_kg_hide-input": true,
    "execution": {
     "iopub.execute_input": "2022-06-10T11:15:56.637815Z",
     "iopub.status.busy": "2022-06-10T11:15:56.637035Z",
     "iopub.status.idle": "2022-06-10T11:15:56.639885Z",
     "shell.execute_reply": "2022-06-10T11:15:56.640523Z",
     "shell.execute_reply.started": "2022-06-10T10:34:40.483633Z"
    },
    "papermill": {
     "duration": 0.142085,
     "end_time": "2022-06-10T11:15:56.640710",
     "exception": false,
     "start_time": "2022-06-10T11:15:56.498625",
     "status": "completed"
    },
    "tags": []
   },
   "outputs": [],
   "source": [
    "sns.set('poster')\n",
    "plt.style.use('seaborn-dark-palette')\n",
    "filterwarnings('ignore')\n",
    "plt.rcParams['axes.edgecolor'] = 'black'\n",
    "plt.rcParams['axes.labelcolor'] = 'black'\n",
    "plt.rcParams['axes.labelweight'] = 'bold'\n",
    "plt.rcParams['axes.titlecolor'] ='black'\n",
    "plt.rcParams['axes.titleweight'] = 'bold'\n",
    "plt.rcParams['figure.autolayout'] = True\n",
    "plt.rcParams['figure.edgecolor'] = 'black'\n",
    "plt.rcParams['figure.frameon'] = True\n",
    "plt.rcParams['font.family'] ='DejaVu Sans'\n",
    "plt.rcParams['font.weight'] = 'bold'\n",
    "plt.rcParams['legend.edgecolor'] = 'black'\n",
    "plt.rcParams['legend.fancybox'] = True\n",
    "plt.rcParams['legend.frameon'] = True\n",
    "plt.rcParams['legend.shadow'] = True"
   ]
  },
  {
   "cell_type": "code",
   "execution_count": null,
   "id": "f496fcbb",
   "metadata": {
    "_kg_hide-input": true,
    "execution": {
     "iopub.execute_input": "2022-06-10T11:15:56.905360Z",
     "iopub.status.busy": "2022-06-10T11:15:56.904643Z",
     "iopub.status.idle": "2022-06-10T11:15:56.908268Z",
     "shell.execute_reply": "2022-06-10T11:15:56.909002Z",
     "shell.execute_reply.started": "2022-06-10T10:15:04.657357Z"
    },
    "papermill": {
     "duration": 0.139008,
     "end_time": "2022-06-10T11:15:56.909210",
     "exception": false,
     "start_time": "2022-06-10T11:15:56.770202",
     "status": "completed"
    },
    "tags": []
   },
   "outputs": [],
   "source": [
    "file1 = '../input/renewable-power-generation/Continent_Consumption_TWH.csv'\n",
    "file2 = '../input/renewable-power-generation/Country_Consumption_TWH.csv'\n",
    "file3 = '../input/renewable-power-generation/nonRenewablesTotalPowerGeneration.csv'\n",
    "file4 = '../input/renewable-power-generation/renewablePowerGeneration97-17.csv'\n",
    "file5 = '../input/renewable-power-generation/renewablesTotalPowerGeneration.csv'\n",
    "file6 = '../input/renewable-power-generation/top20CountriesPowerGeneration.csv'"
   ]
  },
  {
   "cell_type": "markdown",
   "id": "cc313e7f",
   "metadata": {
    "papermill": {
     "duration": 0.129595,
     "end_time": "2022-06-10T11:15:57.169154",
     "exception": false,
     "start_time": "2022-06-10T11:15:57.039559",
     "status": "completed"
    },
    "tags": []
   },
   "source": [
    "<div class=h1> I. Continent energy consumption </div>\n",
    "\n",
    "**Energy consumption** is the amount of energy or power used. In this dataset, we have four organizations **OECD**, **BRICS**, **CIS** and **Middle-East**. Also, it contains 6 continents.  "
   ]
  },
  {
   "cell_type": "code",
   "execution_count": null,
   "id": "8ecc97bd",
   "metadata": {
    "_kg_hide-input": true,
    "execution": {
     "iopub.execute_input": "2022-06-10T11:15:57.432581Z",
     "iopub.status.busy": "2022-06-10T11:15:57.431840Z",
     "iopub.status.idle": "2022-06-10T11:15:57.453060Z",
     "shell.execute_reply": "2022-06-10T11:15:57.453640Z",
     "shell.execute_reply.started": "2022-06-10T10:15:09.511076Z"
    },
    "papermill": {
     "duration": 0.154367,
     "end_time": "2022-06-10T11:15:57.453819",
     "exception": false,
     "start_time": "2022-06-10T11:15:57.299452",
     "status": "completed"
    },
    "tags": []
   },
   "outputs": [],
   "source": [
    "energ_cont_conps = pd.read_csv('Continent_Consumption_TWH.csv')"
   ]
  },
  {
   "cell_type": "code",
   "execution_count": null,
   "id": "99d52d95",
   "metadata": {
    "_kg_hide-input": true,
    "execution": {
     "iopub.execute_input": "2022-06-10T11:15:57.719002Z",
     "iopub.status.busy": "2022-06-10T11:15:57.718139Z",
     "iopub.status.idle": "2022-06-10T11:15:57.742552Z",
     "shell.execute_reply": "2022-06-10T11:15:57.743105Z",
     "shell.execute_reply.started": "2022-06-10T10:15:10.551914Z"
    },
    "papermill": {
     "duration": 0.158129,
     "end_time": "2022-06-10T11:15:57.743309",
     "exception": false,
     "start_time": "2022-06-10T11:15:57.585180",
     "status": "completed"
    },
    "tags": []
   },
   "outputs": [],
   "source": [
    "energ_cont_conps.head()"
   ]
  },
  {
   "cell_type": "code",
   "execution_count": null,
   "id": "5ca2e68f",
   "metadata": {
    "_kg_hide-input": true,
    "_kg_hide-output": true,
    "execution": {
     "iopub.execute_input": "2022-06-10T11:15:58.010168Z",
     "iopub.status.busy": "2022-06-10T11:15:58.009348Z",
     "iopub.status.idle": "2022-06-10T11:15:58.033605Z",
     "shell.execute_reply": "2022-06-10T11:15:58.034678Z",
     "shell.execute_reply.started": "2022-06-10T10:15:11.592617Z"
    },
    "papermill": {
     "duration": 0.160396,
     "end_time": "2022-06-10T11:15:58.034888",
     "exception": false,
     "start_time": "2022-06-10T11:15:57.874492",
     "status": "completed"
    },
    "tags": []
   },
   "outputs": [],
   "source": [
    "energ_cont_conps.info()"
   ]
  },
  {
   "cell_type": "code",
   "execution_count": null,
   "id": "b9847448",
   "metadata": {
    "_kg_hide-input": true,
    "execution": {
     "iopub.execute_input": "2022-06-10T11:15:58.305158Z",
     "iopub.status.busy": "2022-06-10T11:15:58.304392Z",
     "iopub.status.idle": "2022-06-10T11:15:58.307116Z",
     "shell.execute_reply": "2022-06-10T11:15:58.306546Z",
     "shell.execute_reply.started": "2022-06-10T10:15:16.383883Z"
    },
    "papermill": {
     "duration": 0.140083,
     "end_time": "2022-06-10T11:15:58.307271",
     "exception": false,
     "start_time": "2022-06-10T11:15:58.167188",
     "status": "completed"
    },
    "tags": []
   },
   "outputs": [],
   "source": [
    "continent_name = list(set(energ_cont_conps.columns) - set(['World','OECD','CIS','Middle-East',\n",
    "                                                           'BRICS', 'Year']))\n",
    "organization_name = ['OECD','CIS','Middle-East','BRICS']"
   ]
  },
  {
   "cell_type": "markdown",
   "id": "36babf24",
   "metadata": {
    "papermill": {
     "duration": 0.130708,
     "end_time": "2022-06-10T11:15:58.570178",
     "exception": false,
     "start_time": "2022-06-10T11:15:58.439470",
     "status": "completed"
    },
    "tags": []
   },
   "source": [
    "<div class=h2> I.1. World energy consumption </div>\n",
    "Let's see how energy consumption evolves in the world. "
   ]
  },
  {
   "cell_type": "code",
   "execution_count": null,
   "id": "8f1f099e",
   "metadata": {
    "_kg_hide-input": true,
    "execution": {
     "iopub.execute_input": "2022-06-10T11:15:58.838580Z",
     "iopub.status.busy": "2022-06-10T11:15:58.837795Z",
     "iopub.status.idle": "2022-06-10T11:15:58.840319Z",
     "shell.execute_reply": "2022-06-10T11:15:58.839716Z",
     "shell.execute_reply.started": "2022-06-10T10:15:21.119351Z"
    },
    "papermill": {
     "duration": 0.13843,
     "end_time": "2022-06-10T11:15:58.840483",
     "exception": false,
     "start_time": "2022-06-10T11:15:58.702053",
     "status": "completed"
    },
    "tags": []
   },
   "outputs": [],
   "source": [
    "energ_cont_conps.set_index('Year', inplace=True)"
   ]
  },
  {
   "cell_type": "code",
   "execution_count": null,
   "id": "33eea145",
   "metadata": {
    "_kg_hide-input": true,
    "execution": {
     "iopub.execute_input": "2022-06-10T11:15:59.112522Z",
     "iopub.status.busy": "2022-06-10T11:15:59.111747Z",
     "iopub.status.idle": "2022-06-10T11:15:59.433977Z",
     "shell.execute_reply": "2022-06-10T11:15:59.434539Z",
     "shell.execute_reply.started": "2022-06-10T10:35:23.711437Z"
    },
    "papermill": {
     "duration": 0.462667,
     "end_time": "2022-06-10T11:15:59.434717",
     "exception": false,
     "start_time": "2022-06-10T11:15:58.972050",
     "status": "completed"
    },
    "tags": []
   },
   "outputs": [],
   "source": [
    "g=energ_cont_conps.World.plot(figsize=(15,5), title='World energy consumption',legend=True)\n",
    "g.text(2008, 115000, 'Abrupt\\nchange caused by\\n economic crisis 2008-2009.', \n",
    "       bbox=dict(facecolor='red', alpha=0.85))\n",
    "g.text(2018, 153000, 'Covid19 pandemic', bbox=dict(facecolor='red', alpha=0.85))\n",
    "\n",
    "plt.ylabel('TWh')\n",
    "plt.show()"
   ]
  },
  {
   "cell_type": "markdown",
   "id": "a1fff99d",
   "metadata": {
    "papermill": {
     "duration": 0.132818,
     "end_time": "2022-06-10T11:15:59.700775",
     "exception": false,
     "start_time": "2022-06-10T11:15:59.567957",
     "status": "completed"
    },
    "tags": []
   },
   "source": [
    "Energy consumption in the world increases each year. But, we see two abrupt changes at near 2009 (economic crisis) and 2020 (Covid19 pandemic). The distance between this two abrupt changes is of 11 years."
   ]
  },
  {
   "cell_type": "code",
   "execution_count": null,
   "id": "d7d6b269",
   "metadata": {
    "_kg_hide-input": true,
    "execution": {
     "iopub.execute_input": "2022-06-10T11:16:00.233860Z",
     "iopub.status.busy": "2022-06-10T11:16:00.233059Z",
     "iopub.status.idle": "2022-06-10T11:16:00.239527Z",
     "shell.execute_reply": "2022-06-10T11:16:00.240178Z",
     "shell.execute_reply.started": "2022-06-10T10:35:37.614280Z"
    },
    "papermill": {
     "duration": 0.14182,
     "end_time": "2022-06-10T11:16:00.240403",
     "exception": false,
     "start_time": "2022-06-10T11:16:00.098583",
     "status": "completed"
    },
    "tags": []
   },
   "outputs": [],
   "source": [
    "world_eccr = energ_cont_conps.World.pct_change().mul(100)\n",
    "#100*(energ_cont_conps.World.diff(1)/energ_cont_conps.World)"
   ]
  },
  {
   "cell_type": "code",
   "execution_count": null,
   "id": "6ff55413",
   "metadata": {
    "_kg_hide-input": true,
    "execution": {
     "iopub.execute_input": "2022-06-10T11:16:00.462074Z",
     "iopub.status.busy": "2022-06-10T11:16:00.461603Z",
     "iopub.status.idle": "2022-06-10T11:16:00.749442Z",
     "shell.execute_reply": "2022-06-10T11:16:00.749828Z",
     "shell.execute_reply.started": "2022-06-10T10:40:53.587763Z"
    },
    "papermill": {
     "duration": 0.375333,
     "end_time": "2022-06-10T11:16:00.749978",
     "exception": false,
     "start_time": "2022-06-10T11:16:00.374645",
     "status": "completed"
    },
    "tags": []
   },
   "outputs": [],
   "source": [
    "gg=world_eccr.plot(figsize=(15,5), title='Change rate of the world\\n energy consumption.')\n",
    "gg.text(1998, -4, 'negative change rate caused\\nby economic crisis 2008-2009.', \n",
    "        bbox=dict(facecolor='yellow', alpha=0.85))\n",
    "gg.text(2014.5, 3, 'Covid19 falls the world\\nenergy consumption\\nto -4%.',\n",
    "        bbox=dict(facecolor='yellow'))\n",
    "plt.ylabel('%')\n",
    "plt.show()"
   ]
  },
  {
   "cell_type": "code",
   "execution_count": null,
   "id": "dc406a4c",
   "metadata": {
    "_kg_hide-input": true,
    "execution": {
     "iopub.execute_input": "2022-06-10T11:16:01.104049Z",
     "iopub.status.busy": "2022-06-10T11:16:01.103571Z",
     "iopub.status.idle": "2022-06-10T11:16:01.105923Z",
     "shell.execute_reply": "2022-06-10T11:16:01.106445Z",
     "shell.execute_reply.started": "2022-06-10T10:55:46.100465Z"
    },
    "papermill": {
     "duration": 0.096119,
     "end_time": "2022-06-10T11:16:01.106613",
     "exception": false,
     "start_time": "2022-06-10T11:16:01.010494",
     "status": "completed"
    },
    "tags": []
   },
   "outputs": [],
   "source": [
    "decompose_wec = seasonal.seasonal_decompose(energ_cont_conps.World, period=10)"
   ]
  },
  {
   "cell_type": "code",
   "execution_count": null,
   "id": "2bb7bb48",
   "metadata": {
    "_kg_hide-input": true,
    "execution": {
     "iopub.execute_input": "2022-06-10T11:16:01.375781Z",
     "iopub.status.busy": "2022-06-10T11:16:01.375021Z",
     "iopub.status.idle": "2022-06-10T11:16:01.991402Z",
     "shell.execute_reply": "2022-06-10T11:16:01.991919Z",
     "shell.execute_reply.started": "2022-06-10T10:56:22.627970Z"
    },
    "papermill": {
     "duration": 0.754768,
     "end_time": "2022-06-10T11:16:01.992122",
     "exception": false,
     "start_time": "2022-06-10T11:16:01.237354",
     "status": "completed"
    },
    "tags": []
   },
   "outputs": [],
   "source": [
    "_, axc = plt.subplots(3, 1, figsize=(15, 15), sharex=True) \n",
    "plt.suptitle('World energy consumption time series decomposition', fontsize=30)\n",
    "decompose_wec.observed.plot(ax=axc[0], title='Observed')\n",
    "decompose_wec.trend.plot(ax=axc[1], title='Trend')\n",
    "decompose_wec.seasonal.plot(ax=axc[2], title='Seasonal')\n",
    "axc[0].set_ylabel('TWh')\n",
    "plt.show()"
   ]
  },
  {
   "cell_type": "markdown",
   "id": "33b0da31",
   "metadata": {
    "papermill": {
     "duration": 0.088355,
     "end_time": "2022-06-10T11:16:02.351711",
     "exception": false,
     "start_time": "2022-06-10T11:16:02.263356",
     "status": "completed"
    },
    "tags": []
   },
   "source": [
    "<div class=h2> I.2. Organization energy consumption </div>\n",
    "\n",
    "Each country in the world is in some organization like OECD, BRICS, CIS and Middle-East. For example, BRICS is an organization that have as country Brazil, Russia, India, Chine and South-Africa."
   ]
  },
  {
   "cell_type": "code",
   "execution_count": null,
   "id": "f5da13c1",
   "metadata": {
    "_kg_hide-input": true,
    "execution": {
     "iopub.execute_input": "2022-06-10T11:16:02.532217Z",
     "iopub.status.busy": "2022-06-10T11:16:02.531540Z",
     "iopub.status.idle": "2022-06-10T11:16:02.536004Z",
     "shell.execute_reply": "2022-06-10T11:16:02.536437Z",
     "shell.execute_reply.started": "2022-06-10T10:41:21.252553Z"
    },
    "papermill": {
     "duration": 0.095645,
     "end_time": "2022-06-10T11:16:02.536574",
     "exception": false,
     "start_time": "2022-06-10T11:16:02.440929",
     "status": "completed"
    },
    "tags": []
   },
   "outputs": [],
   "source": [
    "organisation = energ_cont_conps[organization_name]"
   ]
  },
  {
   "cell_type": "code",
   "execution_count": null,
   "id": "ff4a65d4",
   "metadata": {
    "_kg_hide-input": true,
    "execution": {
     "iopub.execute_input": "2022-06-10T11:16:02.717012Z",
     "iopub.status.busy": "2022-06-10T11:16:02.716384Z",
     "iopub.status.idle": "2022-06-10T11:16:03.068709Z",
     "shell.execute_reply": "2022-06-10T11:16:03.069111Z",
     "shell.execute_reply.started": "2022-06-10T10:42:58.444020Z"
    },
    "papermill": {
     "duration": 0.444108,
     "end_time": "2022-06-10T11:16:03.069261",
     "exception": false,
     "start_time": "2022-06-10T11:16:02.625153",
     "status": "completed"
    },
    "tags": []
   },
   "outputs": [],
   "source": [
    "org = organisation.plot(figsize=(18,12))\n",
    "plt.ylabel('TWh')\n",
    "org.text(2020.5, 60000, 'OECD < BRICS.\\nCovid19 pandemic has more affected\\nOECD than BRICS.', \n",
    "         bbox=dict(facecolor='red'), fontsize=11)\n",
    "org.text(2000, 19000, \n",
    "'Huge gap between (OECD, BRICS)\\nand (CIS, Midlle-East)\\nBRICS increases considerably its energy consumption.',\n",
    "         bbox=dict(facecolor='yellow'), fontsize=11)\n",
    "org.text(2002, 55000, 'OECD was affected by\\n economic crisis 2008-2009.',\n",
    "         bbox=dict(facecolor='red'), fontsize=11)\n",
    "plt.vlines(2015, 11000, 62000, linestyles='dashed')\n",
    "plt.vlines(2009, 46000, 62000, linestyles='dashed')\n",
    "plt.title('Organization energy consumption', fontsize=30)\n",
    "plt.show()"
   ]
  },
  {
   "cell_type": "code",
   "execution_count": null,
   "id": "7dc7a324",
   "metadata": {
    "_kg_hide-input": true,
    "execution": {
     "iopub.execute_input": "2022-06-10T11:16:03.627208Z",
     "iopub.status.busy": "2022-06-10T11:16:03.626519Z",
     "iopub.status.idle": "2022-06-10T11:16:03.807516Z",
     "shell.execute_reply": "2022-06-10T11:16:03.807916Z",
     "shell.execute_reply.started": "2022-06-10T10:43:14.423156Z"
    },
    "papermill": {
     "duration": 0.277377,
     "end_time": "2022-06-10T11:16:03.808061",
     "exception": false,
     "start_time": "2022-06-10T11:16:03.530684",
     "status": "completed"
    },
    "tags": []
   },
   "outputs": [],
   "source": [
    "organisation.corr().style.background_gradient('PuOr')"
   ]
  },
  {
   "cell_type": "markdown",
   "id": "303b39f3",
   "metadata": {
    "papermill": {
     "duration": 0.091304,
     "end_time": "2022-06-10T11:16:03.990479",
     "exception": false,
     "start_time": "2022-06-10T11:16:03.899175",
     "status": "completed"
    },
    "tags": []
   },
   "source": [
    "BRICS and Middle-East are similar that means Middle-East and BRICS have same energy consumption (China buys Oil from Saudi Arabia, Turkey buys gazprom from Russia). OECD and CIS are opposite in energy consumption."
   ]
  },
  {
   "cell_type": "code",
   "execution_count": null,
   "id": "0e2113bd",
   "metadata": {
    "_kg_hide-input": true,
    "execution": {
     "iopub.execute_input": "2022-06-10T11:16:04.221435Z",
     "iopub.status.busy": "2022-06-10T11:16:04.203540Z",
     "iopub.status.idle": "2022-06-10T11:16:04.503193Z",
     "shell.execute_reply": "2022-06-10T11:16:04.503761Z",
     "shell.execute_reply.started": "2022-06-10T10:43:19.570177Z"
    },
    "papermill": {
     "duration": 0.42052,
     "end_time": "2022-06-10T11:16:04.503936",
     "exception": false,
     "start_time": "2022-06-10T11:16:04.083416",
     "status": "completed"
    },
    "tags": []
   },
   "outputs": [],
   "source": [
    "plt.figure(figsize=(15, 5))\n",
    "sns.regplot(x='BRICS', y='Middle-East', data=organisation)\n",
    "plt.text(40000, 8000, 'If BRICS enery consumption is up\\nthen for Middle-East is also up.', \n",
    "         bbox=dict(facecolor='yellow'), fontsize=12)\n",
    "plt.title('Energy consumption between BRICS and Middle-East')\n",
    "plt.show()"
   ]
  },
  {
   "cell_type": "code",
   "execution_count": null,
   "id": "b08f2d8c",
   "metadata": {
    "_kg_hide-input": true,
    "execution": {
     "iopub.execute_input": "2022-06-10T11:16:04.699443Z",
     "iopub.status.busy": "2022-06-10T11:16:04.698744Z",
     "iopub.status.idle": "2022-06-10T11:16:05.063309Z",
     "shell.execute_reply": "2022-06-10T11:16:05.063700Z",
     "shell.execute_reply.started": "2022-06-10T10:43:27.314285Z"
    },
    "papermill": {
     "duration": 0.465029,
     "end_time": "2022-06-10T11:16:05.063849",
     "exception": false,
     "start_time": "2022-06-10T11:16:04.598820",
     "status": "completed"
    },
    "tags": []
   },
   "outputs": [],
   "source": [
    "plt.figure(figsize=(15, 5))\n",
    "sns.regplot(x='OECD', y='CIS', data=organisation, order=3)\n",
    "plt.text(59000, 15000, 'If OECD enery consumption is up\\nthen for  CIS  is down.', \n",
    "         bbox=dict(facecolor='yellow'), fontsize=12)\n",
    "plt.title('Energy consumption between OECD and CIS')\n",
    "plt.show()"
   ]
  },
  {
   "cell_type": "code",
   "execution_count": null,
   "id": "f20fafc6",
   "metadata": {
    "_kg_hide-input": true,
    "execution": {
     "iopub.execute_input": "2022-06-10T11:16:05.276367Z",
     "iopub.status.busy": "2022-06-10T11:16:05.272767Z",
     "iopub.status.idle": "2022-06-10T11:16:05.848846Z",
     "shell.execute_reply": "2022-06-10T11:16:05.849254Z",
     "shell.execute_reply.started": "2022-06-10T10:47:02.234507Z"
    },
    "papermill": {
     "duration": 0.690112,
     "end_time": "2022-06-10T11:16:05.849428",
     "exception": false,
     "start_time": "2022-06-10T11:16:05.159316",
     "status": "completed"
    },
    "tags": []
   },
   "outputs": [],
   "source": [
    "fig = plt.figure(figsize=(14, 10))\n",
    "fig.subplots_adjust(wspace=0.5, hspace=0.5)\n",
    "d_org = organisation[organisation.index.isin([2019, 2020])]\n",
    "for i, u in enumerate(organization_name):\n",
    "    ax = fig.add_subplot(2, 2, i+1)\n",
    "    d_org[u].plot(kind='bar', title=f'{u}.', ax=ax, sharex=True, edgecolor='black')\n",
    "    ax.set_ylabel('TWh')\n",
    "    for i, a in enumerate(d_org[u].tolist()):\n",
    "        ax.text(i, a, str(round(a, 2)), ha='center', bbox=dict(facecolor='yellow'), fontsize=13)\n",
    "    #ax.text(2019, 40000, str(cr))\n",
    "plt.suptitle('Energy consumption for year 2019 and 2020', fontsize=25)\n",
    "plt.show()"
   ]
  },
  {
   "cell_type": "code",
   "execution_count": null,
   "id": "20e65a42",
   "metadata": {
    "_kg_hide-input": true,
    "execution": {
     "iopub.execute_input": "2022-06-10T11:16:06.055122Z",
     "iopub.status.busy": "2022-06-10T11:16:06.054605Z",
     "iopub.status.idle": "2022-06-10T11:16:06.268829Z",
     "shell.execute_reply": "2022-06-10T11:16:06.269305Z",
     "shell.execute_reply.started": "2022-06-10T10:45:06.579010Z"
    },
    "papermill": {
     "duration": 0.322522,
     "end_time": "2022-06-10T11:16:06.269465",
     "exception": false,
     "start_time": "2022-06-10T11:16:05.946943",
     "status": "completed"
    },
    "tags": []
   },
   "outputs": [],
   "source": [
    "crg = d_org.pct_change().mul(100).iloc[-1]\n",
    "crg.plot.bar(title='Impact of Covid19 pandemic on Energy consumption.', figsize=(15,7), edgecolor='black')\n",
    "plt.ylabel('Change rate (%)')\n",
    "for i, a in enumerate(crg):\n",
    "    plt.text(i, a, str(round(a,2)), ha='center', bbox=dict(facecolor='y'), fontsize=15)\n",
    "plt.show()"
   ]
  },
  {
   "cell_type": "code",
   "execution_count": null,
   "id": "33095c8a",
   "metadata": {
    "_kg_hide-input": true,
    "execution": {
     "iopub.execute_input": "2022-06-10T11:16:06.986215Z",
     "iopub.status.busy": "2022-06-10T11:16:06.985518Z",
     "iopub.status.idle": "2022-06-10T11:16:07.546015Z",
     "shell.execute_reply": "2022-06-10T11:16:07.546605Z",
     "shell.execute_reply.started": "2022-06-10T10:47:15.284679Z"
    },
    "papermill": {
     "duration": 0.71904,
     "end_time": "2022-06-10T11:16:07.546789",
     "exception": false,
     "start_time": "2022-06-10T11:16:06.827749",
     "status": "completed"
    },
    "tags": []
   },
   "outputs": [],
   "source": [
    "fig_ = plt.figure(figsize=(14, 10))\n",
    "fig_.subplots_adjust(wspace=0.5, hspace=0.5)\n",
    "d_org_ = organisation[organisation.index.isin([2008, 2009])]\n",
    "for i, u in enumerate(organization_name):\n",
    "    ax = fig_.add_subplot(2, 2, i+1)\n",
    "    d_org_[u].plot(kind='bar', title=f'{u}.', ax=ax, sharex=True, edgecolor='black')\n",
    "    ax.set_ylabel('TWh')\n",
    "    for i, a in enumerate(d_org_[u].tolist()):\n",
    "        ax.text(i, a, str(round(a, 2)), ha='center', bbox=dict(facecolor='yellow'), fontsize=13)\n",
    "    #ax.text(2019, 40000, str(cr))\n",
    "plt.suptitle('Energy consumption for year 2008 and 2009.', fontsize=25)\n",
    "plt.show()"
   ]
  },
  {
   "cell_type": "code",
   "execution_count": null,
   "id": "79e173d0",
   "metadata": {
    "_kg_hide-input": true,
    "execution": {
     "iopub.execute_input": "2022-06-10T11:16:07.869133Z",
     "iopub.status.busy": "2022-06-10T11:16:07.866853Z",
     "iopub.status.idle": "2022-06-10T11:16:08.112314Z",
     "shell.execute_reply": "2022-06-10T11:16:08.113101Z",
     "shell.execute_reply.started": "2022-06-10T10:48:07.578472Z"
    },
    "papermill": {
     "duration": 0.414393,
     "end_time": "2022-06-10T11:16:08.113314",
     "exception": false,
     "start_time": "2022-06-10T11:16:07.698921",
     "status": "completed"
    },
    "tags": []
   },
   "outputs": [],
   "source": [
    "crg_ = d_org_.pct_change().mul(100).iloc[-1]\n",
    "crg_.plot.bar(title='Impact of Economic crisis 2008-2009 on Energy consumption.',\n",
    "              figsize=(15,7), edgecolor='black')\n",
    "plt.ylabel('Change rate (%)')\n",
    "for i, a in enumerate(crg_):\n",
    "    plt.text(i, a, str(round(a,2)), ha='center', bbox=dict(facecolor='y'), fontsize=15)\n",
    "plt.show()"
   ]
  },
  {
   "cell_type": "markdown",
   "id": "ab61830a",
   "metadata": {
    "papermill": {
     "duration": 0.149087,
     "end_time": "2022-06-10T11:16:08.413498",
     "exception": false,
     "start_time": "2022-06-10T11:16:08.264411",
     "status": "completed"
    },
    "tags": []
   },
   "source": [
    "This chart shows clearly the impact of economic crisis 2008-2009 on OECD and CIS. But we see BRICS and Middle-East have good performance."
   ]
  },
  {
   "cell_type": "markdown",
   "id": "95e4a5d9",
   "metadata": {
    "papermill": {
     "duration": 0.148863,
     "end_time": "2022-06-10T11:16:08.711946",
     "exception": false,
     "start_time": "2022-06-10T11:16:08.563083",
     "status": "completed"
    },
    "tags": []
   },
   "source": [
    "<div class=h2> I.3. Continent </div>"
   ]
  },
  {
   "cell_type": "code",
   "execution_count": null,
   "id": "dd4e39bf",
   "metadata": {
    "_kg_hide-input": true,
    "execution": {
     "iopub.execute_input": "2022-06-10T11:16:09.014480Z",
     "iopub.status.busy": "2022-06-10T11:16:09.013828Z",
     "iopub.status.idle": "2022-06-10T11:16:09.017928Z",
     "shell.execute_reply": "2022-06-10T11:16:09.018476Z",
     "shell.execute_reply.started": "2022-06-10T10:48:22.169453Z"
    },
    "papermill": {
     "duration": 0.156894,
     "end_time": "2022-06-10T11:16:09.018638",
     "exception": false,
     "start_time": "2022-06-10T11:16:08.861744",
     "status": "completed"
    },
    "tags": []
   },
   "outputs": [],
   "source": [
    "continent = energ_cont_conps[continent_name]"
   ]
  },
  {
   "cell_type": "code",
   "execution_count": null,
   "id": "5e4290b2",
   "metadata": {
    "_kg_hide-input": true,
    "execution": {
     "iopub.execute_input": "2022-06-10T11:16:09.325457Z",
     "iopub.status.busy": "2022-06-10T11:16:09.324726Z",
     "iopub.status.idle": "2022-06-10T11:16:09.736007Z",
     "shell.execute_reply": "2022-06-10T11:16:09.736603Z",
     "shell.execute_reply.started": "2022-06-10T10:48:41.295854Z"
    },
    "papermill": {
     "duration": 0.567861,
     "end_time": "2022-06-10T11:16:09.736781",
     "exception": false,
     "start_time": "2022-06-10T11:16:09.168920",
     "status": "completed"
    },
    "tags": []
   },
   "outputs": [],
   "source": [
    "continent.plot(figsize=(15,12), title='Energy consumption in each continent.')\n",
    "plt.text(1990, 45000, 'Big gap between Asia and North America continent\\nand also other continent.', \n",
    "         bbox=dict(facecolor='green', alpha=0.75), fontsize=14)\n",
    "plt.ylabel('TWh')\n",
    "plt.show()"
   ]
  },
  {
   "cell_type": "markdown",
   "id": "2c5385a5",
   "metadata": {
    "papermill": {
     "duration": 0.152577,
     "end_time": "2022-06-10T11:16:10.042891",
     "exception": false,
     "start_time": "2022-06-10T11:16:09.890314",
     "status": "completed"
    },
    "tags": []
   },
   "source": [
    "Let's make correlation. "
   ]
  },
  {
   "cell_type": "code",
   "execution_count": null,
   "id": "adcaad69",
   "metadata": {
    "_kg_hide-input": true,
    "execution": {
     "iopub.execute_input": "2022-06-10T11:16:10.352575Z",
     "iopub.status.busy": "2022-06-10T11:16:10.351763Z",
     "iopub.status.idle": "2022-06-10T11:16:10.373292Z",
     "shell.execute_reply": "2022-06-10T11:16:10.373885Z",
     "shell.execute_reply.started": "2022-06-10T10:49:13.973445Z"
    },
    "papermill": {
     "duration": 0.178386,
     "end_time": "2022-06-10T11:16:10.374068",
     "exception": false,
     "start_time": "2022-06-10T11:16:10.195682",
     "status": "completed"
    },
    "tags": []
   },
   "outputs": [],
   "source": [
    "continent.corr().style.background_gradient('Reds')"
   ]
  },
  {
   "cell_type": "code",
   "execution_count": null,
   "id": "70998696",
   "metadata": {
    "_kg_hide-input": true,
    "execution": {
     "iopub.execute_input": "2022-06-10T11:16:11.300682Z",
     "iopub.status.busy": "2022-06-10T11:16:11.299976Z",
     "iopub.status.idle": "2022-06-10T11:16:11.311046Z",
     "shell.execute_reply": "2022-06-10T11:16:11.311569Z",
     "shell.execute_reply.started": "2022-06-10T10:49:20.928536Z"
    },
    "papermill": {
     "duration": 0.168256,
     "end_time": "2022-06-10T11:16:11.311746",
     "exception": false,
     "start_time": "2022-06-10T11:16:11.143490",
     "status": "completed"
    },
    "tags": []
   },
   "outputs": [],
   "source": [
    "from scipy import stats, linalg\n",
    "\n",
    "def partial_corr(C):\n",
    "    \"\"\"\n",
    "    Returns the sample linear partial correlation coefficients between pairs of variables in C, controlling \n",
    "    for the remaining variables in C.\n",
    "    Parameters\n",
    "    ----------\n",
    "    C : array-like, shape (n, p)\n",
    "        Array with the different variables. Each column of C is taken as a variable\n",
    "    Returns\n",
    "    -------\n",
    "    P : array-like, shape (p, p)\n",
    "    P[i, j] contains the partial correlation of C[:, i] and C[:, j] controlling\n",
    "        for the remaining variables in C.\n",
    "    \"\"\"\n",
    "    \n",
    "    C = np.asarray(C)\n",
    "    p = C.shape[1]\n",
    "    P_corr = np.zeros((p, p), dtype=np.float)\n",
    "    for i in range(p):\n",
    "        P_corr[i, i] = 1\n",
    "        for j in range(i+1, p):\n",
    "            idx = np.ones(p, dtype=np.bool)\n",
    "            idx[i] = False\n",
    "            idx[j] = False\n",
    "            beta_i = linalg.lstsq(C[:, idx], C[:, j])[0]\n",
    "            beta_j = linalg.lstsq(C[:, idx], C[:, i])[0]\n",
    "\n",
    "            res_j = C[:, j] - C[:, idx].dot( beta_i)\n",
    "            res_i = C[:, i] - C[:, idx].dot(beta_j)\n",
    "\n",
    "            corr = stats.pearsonr(res_i, res_j)[0]\n",
    "            P_corr[i, j] = corr\n",
    "            P_corr[j, i] = corr\n",
    "            \n",
    "        return P_corr"
   ]
  },
  {
   "cell_type": "code",
   "execution_count": null,
   "id": "c25664df",
   "metadata": {
    "_kg_hide-input": true,
    "execution": {
     "iopub.execute_input": "2022-06-10T11:16:11.623617Z",
     "iopub.status.busy": "2022-06-10T11:16:11.622845Z",
     "iopub.status.idle": "2022-06-10T11:16:11.646961Z",
     "shell.execute_reply": "2022-06-10T11:16:11.647528Z",
     "shell.execute_reply.started": "2022-06-10T10:49:23.959071Z"
    },
    "papermill": {
     "duration": 0.182766,
     "end_time": "2022-06-10T11:16:11.647706",
     "exception": false,
     "start_time": "2022-06-10T11:16:11.464940",
     "status": "completed"
    },
    "tags": []
   },
   "outputs": [],
   "source": [
    "corrpartial = pd.DataFrame(partial_corr(continent[sorted(continent.columns.tolist())]),\n",
    "                           columns=sorted(continent.columns.tolist()), \n",
    "                            index=sorted(continent.columns.tolist()))\n",
    "corrpartial.style.background_gradient('viridis')"
   ]
  },
  {
   "cell_type": "code",
   "execution_count": null,
   "id": "07c6c899",
   "metadata": {
    "_kg_hide-input": true,
    "execution": {
     "iopub.execute_input": "2022-06-10T11:16:12.273805Z",
     "iopub.status.busy": "2022-06-10T11:16:12.273107Z",
     "iopub.status.idle": "2022-06-10T11:16:14.693381Z",
     "shell.execute_reply": "2022-06-10T11:16:14.693927Z",
     "shell.execute_reply.started": "2022-06-10T10:50:28.736843Z"
    },
    "papermill": {
     "duration": 2.581715,
     "end_time": "2022-06-10T11:16:14.694077",
     "exception": false,
     "start_time": "2022-06-10T11:16:12.112362",
     "status": "completed"
    },
    "tags": []
   },
   "outputs": [],
   "source": [
    "plt.figure(figsize=(15,5))\n",
    "sns.regplot(x='Africa', y='Asia', data=continent, robust=True)\n",
    "plt.title('Energy consumption (TWh)  Africa-Asia.')\n",
    "plt.text(7000, 30000, 'China vs Africa.', bbox=dict(facecolor='red'))\n",
    "plt.show()"
   ]
  },
  {
   "cell_type": "code",
   "execution_count": null,
   "id": "d8aa8b73",
   "metadata": {
    "_kg_hide-input": true,
    "execution": {
     "iopub.execute_input": "2022-06-10T11:16:14.907225Z",
     "iopub.status.busy": "2022-06-10T11:16:14.906521Z",
     "iopub.status.idle": "2022-06-10T11:16:15.678923Z",
     "shell.execute_reply": "2022-06-10T11:16:15.679488Z",
     "shell.execute_reply.started": "2022-06-10T10:50:58.352681Z"
    },
    "papermill": {
     "duration": 0.880731,
     "end_time": "2022-06-10T11:16:15.679658",
     "exception": false,
     "start_time": "2022-06-10T11:16:14.798927",
     "status": "completed"
    },
    "tags": []
   },
   "outputs": [],
   "source": [
    "fig1 = plt.figure(figsize=(14, 10))\n",
    "fig1.subplots_adjust(wspace=0.5, hspace=0.5)\n",
    "d_cont = continent[continent.index.isin([2019, 2020])]\n",
    "for i, u in enumerate(continent_name):\n",
    "    ax = fig1.add_subplot(2, 3, i+1)\n",
    "    d_cont[u].plot(kind='bar', title=f'{u}', ax=ax, sharex=True, edgecolor='black')\n",
    "    ax.set_ylabel('TWh')\n",
    "    for i, a in enumerate(d_cont[u].tolist()):\n",
    "        ax.text(i, a, str(round(a, 2)), ha='center', bbox=dict(facecolor='yellow'), fontsize=14)\n",
    "    #ax.text(2019, 40000, str(cr))\n",
    "plt.suptitle('Energy consumption for year 2019 and 2020', fontsize=25)\n",
    "plt.show()"
   ]
  },
  {
   "cell_type": "code",
   "execution_count": null,
   "id": "ff071b5a",
   "metadata": {
    "_kg_hide-input": true,
    "execution": {
     "iopub.execute_input": "2022-06-10T11:16:15.967817Z",
     "iopub.status.busy": "2022-06-10T11:16:15.956741Z",
     "iopub.status.idle": "2022-06-10T11:16:16.208130Z",
     "shell.execute_reply": "2022-06-10T11:16:16.207526Z",
     "shell.execute_reply.started": "2022-06-10T10:52:04.740119Z"
    },
    "papermill": {
     "duration": 0.368552,
     "end_time": "2022-06-10T11:16:16.208291",
     "exception": false,
     "start_time": "2022-06-10T11:16:15.839739",
     "status": "completed"
    },
    "tags": []
   },
   "outputs": [],
   "source": [
    "cr = d_cont.pct_change().mul(100).iloc[-1]\n",
    "cr.plot.bar(title='Impact of Covid19 pandemic on Energy consumption.', figsize=(15,7), edgecolor='black')\n",
    "plt.ylabel('Change rate (%)')\n",
    "for i, a in enumerate(cr):\n",
    "    plt.text(i, a, str(round(a,2)), ha='center', bbox=dict(facecolor='y'))\n",
    "plt.show()"
   ]
  },
  {
   "cell_type": "markdown",
   "id": "3a303075",
   "metadata": {
    "papermill": {
     "duration": 0.159875,
     "end_time": "2022-06-10T11:16:16.531585",
     "exception": false,
     "start_time": "2022-06-10T11:16:16.371710",
     "status": "completed"
    },
    "tags": []
   },
   "source": [
    "Covid19 pandemic impacts considerably energy consumption of the six continents. Asia with china looses only -0.47% of its energy consumption against -6.74% for Europe and -7.48% for North America."
   ]
  },
  {
   "cell_type": "code",
   "execution_count": null,
   "id": "b3ce7e86",
   "metadata": {
    "_kg_hide-input": true,
    "execution": {
     "iopub.execute_input": "2022-06-10T11:16:17.147738Z",
     "iopub.status.busy": "2022-06-10T11:16:17.147081Z",
     "iopub.status.idle": "2022-06-10T11:16:18.185756Z",
     "shell.execute_reply": "2022-06-10T11:16:18.185219Z",
     "shell.execute_reply.started": "2022-06-10T10:52:40.612170Z"
    },
    "papermill": {
     "duration": 1.159797,
     "end_time": "2022-06-10T11:16:18.185883",
     "exception": false,
     "start_time": "2022-06-10T11:16:17.026086",
     "status": "completed"
    },
    "tags": []
   },
   "outputs": [],
   "source": [
    "fig1_ = plt.figure(figsize=(14, 10))\n",
    "fig1_.subplots_adjust(wspace=0.5, hspace=0.5)\n",
    "d_cont_ = continent[continent.index.isin([2008, 2009])]\n",
    "for i, u in enumerate(continent_name):\n",
    "    ax = fig1_.add_subplot(2, 3, i+1)\n",
    "    d_cont_[u].plot(kind='bar', title=f'{u}.', ax=ax, sharex=True, edgecolor='black')\n",
    "    ax.set_ylabel('TWh')\n",
    "    for i, a in enumerate(d_cont_[u].tolist()):\n",
    "        ax.text(i, a, str(round(a, 2)), ha='center', bbox=dict(facecolor='yellow'), fontsize=12)\n",
    "plt.suptitle('Energy consumption for year 2008-2009', fontsize=25)\n",
    "plt.show()"
   ]
  },
  {
   "cell_type": "code",
   "execution_count": null,
   "id": "f995bfb2",
   "metadata": {
    "_kg_hide-input": true,
    "execution": {
     "iopub.execute_input": "2022-06-10T11:16:18.411135Z",
     "iopub.status.busy": "2022-06-10T11:16:18.410519Z",
     "iopub.status.idle": "2022-06-10T11:16:18.662576Z",
     "shell.execute_reply": "2022-06-10T11:16:18.662099Z",
     "shell.execute_reply.started": "2022-06-10T10:53:34.250071Z"
    },
    "papermill": {
     "duration": 0.364824,
     "end_time": "2022-06-10T11:16:18.662692",
     "exception": false,
     "start_time": "2022-06-10T11:16:18.297868",
     "status": "completed"
    },
    "tags": []
   },
   "outputs": [],
   "source": [
    "cr_ = d_cont_.pct_change().mul(100).iloc[-1]\n",
    "cr_.plot.bar(title='Impact of Economic crisis 2008-2009 on Energy consumption.', \n",
    "             figsize=(15,7), edgecolor='black')\n",
    "plt.ylabel('Change rate (%)')\n",
    "for i, a in enumerate(cr_):\n",
    "    plt.text(i, a, str(round(a,2)), ha='center', bbox=dict(facecolor='y'))\n",
    "plt.show()"
   ]
  },
  {
   "cell_type": "markdown",
   "id": "8ad9a1ec",
   "metadata": {
    "papermill": {
     "duration": 0.113225,
     "end_time": "2022-06-10T11:16:19.573405",
     "exception": false,
     "start_time": "2022-06-10T11:16:19.460180",
     "status": "completed"
    },
    "tags": []
   },
   "source": [
    "<div class=h1> II. Country energy consumption </div>\n",
    "In this section, we study energy consumption in each country and see how each country improves its power used."
   ]
  },
  {
   "cell_type": "code",
   "execution_count": null,
   "id": "359f8090",
   "metadata": {
    "_kg_hide-input": true,
    "execution": {
     "iopub.execute_input": "2022-06-10T11:16:19.807999Z",
     "iopub.status.busy": "2022-06-10T11:16:19.807383Z",
     "iopub.status.idle": "2022-06-10T11:16:19.820600Z",
     "shell.execute_reply": "2022-06-10T11:16:19.819964Z",
     "shell.execute_reply.started": "2022-06-10T10:56:45.975229Z"
    },
    "papermill": {
     "duration": 0.132657,
     "end_time": "2022-06-10T11:16:19.820877",
     "exception": false,
     "start_time": "2022-06-10T11:16:19.688220",
     "status": "completed"
    },
    "tags": []
   },
   "outputs": [],
   "source": [
    "country = pd.read_csv('Country_Consumption_TWH.csv')\n",
    "country.set_index('Year',inplace=True)"
   ]
  },
  {
   "cell_type": "code",
   "execution_count": null,
   "id": "6cc21afb",
   "metadata": {
    "_kg_hide-input": true,
    "execution": {
     "iopub.execute_input": "2022-06-10T11:16:20.142240Z",
     "iopub.status.busy": "2022-06-10T11:16:20.141609Z",
     "iopub.status.idle": "2022-06-10T11:16:20.168866Z",
     "shell.execute_reply": "2022-06-10T11:16:20.169452Z",
     "shell.execute_reply.started": "2022-06-10T10:56:51.692680Z"
    },
    "papermill": {
     "duration": 0.195111,
     "end_time": "2022-06-10T11:16:20.169633",
     "exception": false,
     "start_time": "2022-06-10T11:16:19.974522",
     "status": "completed"
    },
    "tags": []
   },
   "outputs": [],
   "source": [
    "country.head()"
   ]
  },
  {
   "cell_type": "code",
   "execution_count": null,
   "id": "ac909336",
   "metadata": {
    "_kg_hide-input": true,
    "_kg_hide-output": true,
    "execution": {
     "iopub.execute_input": "2022-06-10T11:16:20.504422Z",
     "iopub.status.busy": "2022-06-10T11:16:20.503759Z",
     "iopub.status.idle": "2022-06-10T11:16:20.520311Z",
     "shell.execute_reply": "2022-06-10T11:16:20.520873Z",
     "shell.execute_reply.started": "2022-06-10T10:56:52.764060Z"
    },
    "papermill": {
     "duration": 0.183857,
     "end_time": "2022-06-10T11:16:20.521047",
     "exception": false,
     "start_time": "2022-06-10T11:16:20.337190",
     "status": "completed"
    },
    "tags": []
   },
   "outputs": [],
   "source": [
    "country.info()"
   ]
  },
  {
   "cell_type": "markdown",
   "id": "ff621236",
   "metadata": {
    "papermill": {
     "duration": 0.164947,
     "end_time": "2022-06-10T11:16:20.851694",
     "exception": false,
     "start_time": "2022-06-10T11:16:20.686747",
     "status": "completed"
    },
    "tags": []
   },
   "source": [
    "This datasets have 44 countries."
   ]
  },
  {
   "cell_type": "code",
   "execution_count": null,
   "id": "e386f163",
   "metadata": {
    "_kg_hide-input": true,
    "execution": {
     "iopub.execute_input": "2022-06-10T11:16:21.184698Z",
     "iopub.status.busy": "2022-06-10T11:16:21.184013Z",
     "iopub.status.idle": "2022-06-10T11:16:21.188724Z",
     "shell.execute_reply": "2022-06-10T11:16:21.189291Z",
     "shell.execute_reply.started": "2022-06-10T10:56:59.356202Z"
    },
    "papermill": {
     "duration": 0.172754,
     "end_time": "2022-06-10T11:16:21.189458",
     "exception": false,
     "start_time": "2022-06-10T11:16:21.016704",
     "status": "completed"
    },
    "tags": []
   },
   "outputs": [],
   "source": [
    "europe = ['Belgium', 'Czechia','France','Germany','Italy','Netherlands','Poland','Portugal',\n",
    "         'Romania','Spain', 'Sweden','Norway','Turkey', 'Kazakhstan','Russia','Ukraine','United Kingdom',\n",
    "         'Uzbekistan']\n",
    "asia = ['China','Indonesia','Japan','Malaysia','South Korea','Taiwan','Thailand','India','Iran',\n",
    "       'Kuwait','Saudi Arabia','United Arab Emirates']\n",
    "africa = ['Algeria','Egypt','Nigeria','South Africa']\n",
    "oceania = ['New Zealand', 'Australia']\n",
    "north_america = ['United States','Canada']\n",
    "latin_america = list(set(country.columns) - set(europe+asia+oceania+north_america+africa))"
   ]
  },
  {
   "cell_type": "markdown",
   "id": "1232a0fa",
   "metadata": {
    "papermill": {
     "duration": 0.164984,
     "end_time": "2022-06-10T11:16:21.521043",
     "exception": false,
     "start_time": "2022-06-10T11:16:21.356059",
     "status": "completed"
    },
    "tags": []
   },
   "source": [
    "<div class=h2> II.1. Energy consumption visualization by region </div>"
   ]
  },
  {
   "cell_type": "markdown",
   "id": "6a6963fb",
   "metadata": {
    "papermill": {
     "duration": 0.165668,
     "end_time": "2022-06-10T11:16:21.851523",
     "exception": false,
     "start_time": "2022-06-10T11:16:21.685855",
     "status": "completed"
    },
    "tags": []
   },
   "source": [
    "### Europe"
   ]
  },
  {
   "cell_type": "code",
   "execution_count": null,
   "id": "78d0abc5",
   "metadata": {
    "_kg_hide-input": true,
    "execution": {
     "iopub.execute_input": "2022-06-10T11:16:22.185594Z",
     "iopub.status.busy": "2022-06-10T11:16:22.184786Z",
     "iopub.status.idle": "2022-06-10T11:16:24.820386Z",
     "shell.execute_reply": "2022-06-10T11:16:24.820915Z",
     "shell.execute_reply.started": "2022-06-10T10:57:15.346277Z"
    },
    "papermill": {
     "duration": 2.803623,
     "end_time": "2022-06-10T11:16:24.821082",
     "exception": false,
     "start_time": "2022-06-10T11:16:22.017459",
     "status": "completed"
    },
    "tags": []
   },
   "outputs": [],
   "source": [
    "country[europe].plot(subplots=True, figsize=(18, 18), layout=(6,3), sharex=True)\n",
    "plt.show()"
   ]
  },
  {
   "cell_type": "markdown",
   "id": "4e80af47",
   "metadata": {
    "papermill": {
     "duration": 0.169573,
     "end_time": "2022-06-10T11:16:25.506778",
     "exception": false,
     "start_time": "2022-06-10T11:16:25.337205",
     "status": "completed"
    },
    "tags": []
   },
   "source": [
    "### Asia"
   ]
  },
  {
   "cell_type": "code",
   "execution_count": null,
   "id": "20efe958",
   "metadata": {
    "_kg_hide-input": true,
    "execution": {
     "iopub.execute_input": "2022-06-10T11:16:25.853764Z",
     "iopub.status.busy": "2022-06-10T11:16:25.852917Z",
     "iopub.status.idle": "2022-06-10T11:16:27.587392Z",
     "shell.execute_reply": "2022-06-10T11:16:27.587940Z",
     "shell.execute_reply.started": "2022-06-10T10:58:33.309437Z"
    },
    "papermill": {
     "duration": 1.909178,
     "end_time": "2022-06-10T11:16:27.588112",
     "exception": false,
     "start_time": "2022-06-10T11:16:25.678934",
     "status": "completed"
    },
    "tags": []
   },
   "outputs": [],
   "source": [
    "country[asia].plot(subplots=True, figsize=(20, 15), layout=(4,3), sharex=True)\n",
    "plt.show()"
   ]
  },
  {
   "cell_type": "markdown",
   "id": "6d3f2e23",
   "metadata": {
    "papermill": {
     "duration": 0.125256,
     "end_time": "2022-06-10T11:16:28.155090",
     "exception": false,
     "start_time": "2022-06-10T11:16:28.029834",
     "status": "completed"
    },
    "tags": []
   },
   "source": [
    "### Latina and North America"
   ]
  },
  {
   "cell_type": "code",
   "execution_count": null,
   "id": "74b6dfce",
   "metadata": {
    "_kg_hide-input": true,
    "execution": {
     "iopub.execute_input": "2022-06-10T11:16:28.407459Z",
     "iopub.status.busy": "2022-06-10T11:16:28.406852Z",
     "iopub.status.idle": "2022-06-10T11:16:29.826897Z",
     "shell.execute_reply": "2022-06-10T11:16:29.827324Z",
     "shell.execute_reply.started": "2022-06-10T10:59:10.275413Z"
    },
    "papermill": {
     "duration": 1.54641,
     "end_time": "2022-06-10T11:16:29.827484",
     "exception": false,
     "start_time": "2022-06-10T11:16:28.281074",
     "status": "completed"
    },
    "tags": []
   },
   "outputs": [],
   "source": [
    "country[latin_america+north_america].plot(subplots=True, layout=(2, 4), figsize=(20, 10))\n",
    "plt.show()"
   ]
  },
  {
   "cell_type": "markdown",
   "id": "8e2a1465",
   "metadata": {
    "papermill": {
     "duration": 0.125964,
     "end_time": "2022-06-10T11:16:30.080541",
     "exception": false,
     "start_time": "2022-06-10T11:16:29.954577",
     "status": "completed"
    },
    "tags": []
   },
   "source": [
    "Covid19 pandemic impacts energy production."
   ]
  },
  {
   "cell_type": "markdown",
   "id": "80500527",
   "metadata": {
    "papermill": {
     "duration": 0.180635,
     "end_time": "2022-06-10T11:16:30.413140",
     "exception": false,
     "start_time": "2022-06-10T11:16:30.232505",
     "status": "completed"
    },
    "tags": []
   },
   "source": [
    "### Africa and Oceania"
   ]
  },
  {
   "cell_type": "code",
   "execution_count": null,
   "id": "bc9f881a",
   "metadata": {
    "_kg_hide-input": true,
    "execution": {
     "iopub.execute_input": "2022-06-10T11:16:30.773335Z",
     "iopub.status.busy": "2022-06-10T11:16:30.772654Z",
     "iopub.status.idle": "2022-06-10T11:16:31.847013Z",
     "shell.execute_reply": "2022-06-10T11:16:31.847549Z",
     "shell.execute_reply.started": "2022-06-10T10:59:32.698506Z"
    },
    "papermill": {
     "duration": 1.255531,
     "end_time": "2022-06-10T11:16:31.847690",
     "exception": false,
     "start_time": "2022-06-10T11:16:30.592159",
     "status": "completed"
    },
    "tags": []
   },
   "outputs": [],
   "source": [
    "country[africa+oceania].plot(subplots=True, layout=(2,3), figsize=(15, 10))\n",
    "plt.show()"
   ]
  },
  {
   "cell_type": "markdown",
   "id": "ee251559",
   "metadata": {
    "papermill": {
     "duration": 0.126091,
     "end_time": "2022-06-10T11:16:32.103780",
     "exception": false,
     "start_time": "2022-06-10T11:16:31.977689",
     "status": "completed"
    },
    "tags": []
   },
   "source": [
    "<div class=h2>II.2. The impact of Covid19 pandemic on Energy consumption.</div>\n",
    "    \n",
    "We are going to study the impact of Covid19 on energy consumption for each country. To do so, we compute the change rate of energy consumption between 2019 and 2020. After, we compare with the impact of economic crisis 2008-2009 on energy consumption. Let's go."
   ]
  },
  {
   "cell_type": "code",
   "execution_count": null,
   "id": "d43bfe46",
   "metadata": {
    "_kg_hide-input": true,
    "execution": {
     "iopub.execute_input": "2022-06-10T11:16:32.364169Z",
     "iopub.status.busy": "2022-06-10T11:16:32.363599Z",
     "iopub.status.idle": "2022-06-10T11:16:32.369554Z",
     "shell.execute_reply": "2022-06-10T11:16:32.370065Z",
     "shell.execute_reply.started": "2022-06-10T11:00:06.933038Z"
    },
    "papermill": {
     "duration": 0.138331,
     "end_time": "2022-06-10T11:16:32.370225",
     "exception": false,
     "start_time": "2022-06-10T11:16:32.231894",
     "status": "completed"
    },
    "tags": []
   },
   "outputs": [],
   "source": [
    "impact_2020 = country[country.index.isin([2019, 2020])]\n",
    "impact_2008 = country[country.index.isin([2008, 2009])]"
   ]
  },
  {
   "cell_type": "code",
   "execution_count": null,
   "id": "34f72f23",
   "metadata": {
    "_kg_hide-input": true,
    "execution": {
     "iopub.execute_input": "2022-06-10T11:16:32.634164Z",
     "iopub.status.busy": "2022-06-10T11:16:32.633584Z",
     "iopub.status.idle": "2022-06-10T11:16:32.638236Z",
     "shell.execute_reply": "2022-06-10T11:16:32.638747Z",
     "shell.execute_reply.started": "2022-06-10T11:00:10.843814Z"
    },
    "papermill": {
     "duration": 0.138736,
     "end_time": "2022-06-10T11:16:32.638917",
     "exception": false,
     "start_time": "2022-06-10T11:16:32.500181",
     "status": "completed"
    },
    "tags": []
   },
   "outputs": [],
   "source": [
    "lost_ec_2020 = impact_2020.pct_change().mul(100).iloc[1]\n",
    "#100*(impact_2020.diff(1)/impact_2020).iloc[1]"
   ]
  },
  {
   "cell_type": "code",
   "execution_count": null,
   "id": "f037145b",
   "metadata": {
    "_kg_hide-input": true,
    "execution": {
     "iopub.execute_input": "2022-06-10T11:16:32.934882Z",
     "iopub.status.busy": "2022-06-10T11:16:32.908391Z",
     "iopub.status.idle": "2022-06-10T11:16:33.865016Z",
     "shell.execute_reply": "2022-06-10T11:16:33.865470Z",
     "shell.execute_reply.started": "2022-06-10T11:01:14.223806Z"
    },
    "papermill": {
     "duration": 1.096243,
     "end_time": "2022-06-10T11:16:33.865628",
     "exception": false,
     "start_time": "2022-06-10T11:16:32.769385",
     "status": "completed"
    },
    "tags": []
   },
   "outputs": [],
   "source": [
    "ig = lost_ec_2020.plot.bar(figsize=(18,8), title='Impact of Covid19 pandemic on energy consumption.')\n",
    "plt.ylabel('Change rate (%)')\n",
    "for i, u in enumerate(lost_ec_2020):\n",
    "    ig.text(i, u, str(round(u)), bbox=dict(facecolor='y'), ha='center', fontsize=12)\n",
    "plt.text(18, -20, 'LOST', bbox=dict(facecolor='red'))\n",
    "plt.text(18, 3, 'GAIN', bbox=dict(facecolor='g'))\n",
    "plt.show()"
   ]
  },
  {
   "cell_type": "markdown",
   "id": "45f6aa38",
   "metadata": {
    "papermill": {
     "duration": 0.142371,
     "end_time": "2022-06-10T11:16:34.149067",
     "exception": false,
     "start_time": "2022-06-10T11:16:34.006696",
     "status": "completed"
    },
    "tags": []
   },
   "source": [
    "Only just 3 countries have positive change rate China, Nigeria and Kuwait. Only one countries of the BRICS outperforms but all countries in OECD is down.  "
   ]
  },
  {
   "cell_type": "code",
   "execution_count": null,
   "id": "8249a635",
   "metadata": {
    "_kg_hide-input": true,
    "execution": {
     "iopub.execute_input": "2022-06-10T11:16:34.469042Z",
     "iopub.status.busy": "2022-06-10T11:16:34.468211Z",
     "iopub.status.idle": "2022-06-10T11:16:34.471445Z",
     "shell.execute_reply": "2022-06-10T11:16:34.470959Z",
     "shell.execute_reply.started": "2022-06-10T11:01:23.547508Z"
    },
    "papermill": {
     "duration": 0.149564,
     "end_time": "2022-06-10T11:16:34.471557",
     "exception": false,
     "start_time": "2022-06-10T11:16:34.321993",
     "status": "completed"
    },
    "tags": []
   },
   "outputs": [],
   "source": [
    "#for 2008\n",
    "lost_ec_2008 = impact_2008.pct_change().mul(100).iloc[1]\n",
    "#100*(impact_2008.diff(1)/impact_2008).iloc[1]"
   ]
  },
  {
   "cell_type": "code",
   "execution_count": null,
   "id": "e5118e1e",
   "metadata": {
    "_kg_hide-input": true,
    "execution": {
     "iopub.execute_input": "2022-06-10T11:16:34.752662Z",
     "iopub.status.busy": "2022-06-10T11:16:34.752026Z",
     "iopub.status.idle": "2022-06-10T11:16:35.532324Z",
     "shell.execute_reply": "2022-06-10T11:16:35.533108Z",
     "shell.execute_reply.started": "2022-06-10T11:01:46.584299Z"
    },
    "papermill": {
     "duration": 0.917257,
     "end_time": "2022-06-10T11:16:35.533317",
     "exception": false,
     "start_time": "2022-06-10T11:16:34.616060",
     "status": "completed"
    },
    "tags": []
   },
   "outputs": [],
   "source": [
    "jg = lost_ec_2008.plot.bar(figsize=(18,8), title='Impact of economic crisis 2008-2009 on energy consumption.')\n",
    "plt.ylabel('Change rate (%)')\n",
    "for i, u in enumerate(lost_ec_2008):\n",
    "    jg.text(i, u, str(round(u)), bbox=dict(facecolor='y'), ha='center', fontsize=12)\n",
    "plt.text(20, -15, 'LOST', bbox=dict(facecolor='red'))\n",
    "plt.text(18, 3, 'GAIN', bbox=dict(facecolor='g'))\n",
    "plt.show()"
   ]
  },
  {
   "cell_type": "markdown",
   "id": "90d8f73b",
   "metadata": {
    "papermill": {
     "duration": 0.165653,
     "end_time": "2022-06-10T11:16:35.891172",
     "exception": false,
     "start_time": "2022-06-10T11:16:35.725519",
     "status": "completed"
    },
    "tags": []
   },
   "source": [
    "We have 11 countries that its change rate is positive."
   ]
  },
  {
   "cell_type": "markdown",
   "id": "7af0926e",
   "metadata": {
    "papermill": {
     "duration": 0.186975,
     "end_time": "2022-06-10T11:16:36.764149",
     "exception": false,
     "start_time": "2022-06-10T11:16:36.577174",
     "status": "completed"
    },
    "tags": []
   },
   "source": [
    "<div class=h1> III. Renewable and Non-Renewable energy </div>"
   ]
  },
  {
   "cell_type": "code",
   "execution_count": null,
   "id": "948b8c34",
   "metadata": {
    "_kg_hide-input": true,
    "execution": {
     "iopub.execute_input": "2022-06-10T11:16:37.039436Z",
     "iopub.status.busy": "2022-06-10T11:16:37.038909Z",
     "iopub.status.idle": "2022-06-10T11:16:37.057868Z",
     "shell.execute_reply": "2022-06-10T11:16:37.058302Z",
     "shell.execute_reply.started": "2022-06-10T11:02:04.096763Z"
    },
    "papermill": {
     "duration": 0.158242,
     "end_time": "2022-06-10T11:16:37.058500",
     "exception": false,
     "start_time": "2022-06-10T11:16:36.900258",
     "status": "completed"
    },
    "tags": []
   },
   "outputs": [],
   "source": [
    "non_renewable = pd.read_csv('nonRenewablesTotalPowerGeneration.csv')\n",
    "renewable = pd.read_csv('renewablesTotalPowerGeneration.csv')"
   ]
  },
  {
   "cell_type": "markdown",
   "id": "e9e7a33c",
   "metadata": {
    "papermill": {
     "duration": 0.134084,
     "end_time": "2022-06-10T11:16:37.326670",
     "exception": false,
     "start_time": "2022-06-10T11:16:37.192586",
     "status": "completed"
    },
    "tags": []
   },
   "source": [
    "### Non-Renewable"
   ]
  },
  {
   "cell_type": "code",
   "execution_count": null,
   "id": "99739f54",
   "metadata": {
    "_kg_hide-input": true,
    "execution": {
     "iopub.execute_input": "2022-06-10T11:16:37.598831Z",
     "iopub.status.busy": "2022-06-10T11:16:37.598179Z",
     "iopub.status.idle": "2022-06-10T11:16:37.606672Z",
     "shell.execute_reply": "2022-06-10T11:16:37.607132Z",
     "shell.execute_reply.started": "2022-06-10T11:02:08.495612Z"
    },
    "papermill": {
     "duration": 0.14599,
     "end_time": "2022-06-10T11:16:37.607304",
     "exception": false,
     "start_time": "2022-06-10T11:16:37.461314",
     "status": "completed"
    },
    "tags": []
   },
   "outputs": [],
   "source": [
    "non_renewable.head()"
   ]
  },
  {
   "cell_type": "code",
   "execution_count": null,
   "id": "fd26fb45",
   "metadata": {
    "_kg_hide-input": true,
    "execution": {
     "iopub.execute_input": "2022-06-10T11:16:37.886153Z",
     "iopub.status.busy": "2022-06-10T11:16:37.885622Z",
     "iopub.status.idle": "2022-06-10T11:16:37.887219Z",
     "shell.execute_reply": "2022-06-10T11:16:37.887789Z",
     "shell.execute_reply.started": "2022-06-10T11:02:09.085818Z"
    },
    "papermill": {
     "duration": 0.144326,
     "end_time": "2022-06-10T11:16:37.887972",
     "exception": false,
     "start_time": "2022-06-10T11:16:37.743646",
     "status": "completed"
    },
    "tags": []
   },
   "outputs": [],
   "source": [
    "non_renewable.set_index('Mode of Generation', inplace=True) "
   ]
  },
  {
   "cell_type": "code",
   "execution_count": null,
   "id": "371009ba",
   "metadata": {
    "_kg_hide-input": true,
    "execution": {
     "iopub.execute_input": "2022-06-10T11:16:38.270814Z",
     "iopub.status.busy": "2022-06-10T11:16:38.270058Z",
     "iopub.status.idle": "2022-06-10T11:16:38.274592Z",
     "shell.execute_reply": "2022-06-10T11:16:38.275145Z",
     "shell.execute_reply.started": "2022-06-10T11:02:12.696270Z"
    },
    "papermill": {
     "duration": 0.197944,
     "end_time": "2022-06-10T11:16:38.275403",
     "exception": false,
     "start_time": "2022-06-10T11:16:38.077459",
     "status": "completed"
    },
    "tags": []
   },
   "outputs": [],
   "source": [
    "non_renewable.drop(labels='Total', inplace=True)"
   ]
  },
  {
   "cell_type": "code",
   "execution_count": null,
   "id": "b4ddcff1",
   "metadata": {
    "_kg_hide-input": true,
    "execution": {
     "iopub.execute_input": "2022-06-10T11:16:38.612859Z",
     "iopub.status.busy": "2022-06-10T11:16:38.611547Z",
     "iopub.status.idle": "2022-06-10T11:16:38.931888Z",
     "shell.execute_reply": "2022-06-10T11:16:38.931429Z",
     "shell.execute_reply.started": "2022-06-10T11:02:38.308317Z"
    },
    "papermill": {
     "duration": 0.463399,
     "end_time": "2022-06-10T11:16:38.932007",
     "exception": false,
     "start_time": "2022-06-10T11:16:38.468608",
     "status": "completed"
    },
    "tags": []
   },
   "outputs": [],
   "source": [
    "ng = non_renewable.plot.bar(figsize=(15, 8), edgecolor='black')\n",
    "plt.title('Type of non-renewable energy source.')\n",
    "for u, w in enumerate(non_renewable['Contribution (TWh)']):\n",
    "    ng.text(u, w, str(w), bbox=dict(facecolor='y'), ha='center', fontsize=14)\n",
    "plt.show()"
   ]
  },
  {
   "cell_type": "markdown",
   "id": "fb4a6d74",
   "metadata": {
    "papermill": {
     "duration": 0.137212,
     "end_time": "2022-06-10T11:16:39.206769",
     "exception": false,
     "start_time": "2022-06-10T11:16:39.069557",
     "status": "completed"
    },
    "tags": []
   },
   "source": [
    "Coal produces most non-renewable energy than Natural Gas, Nuclear, Oil, etc... "
   ]
  },
  {
   "cell_type": "markdown",
   "id": "34cabbca",
   "metadata": {
    "papermill": {
     "duration": 0.13648,
     "end_time": "2022-06-10T11:16:39.480724",
     "exception": false,
     "start_time": "2022-06-10T11:16:39.344244",
     "status": "completed"
    },
    "tags": []
   },
   "source": [
    "### Renewable energy"
   ]
  },
  {
   "cell_type": "code",
   "execution_count": null,
   "id": "d5dc67a4",
   "metadata": {
    "_kg_hide-input": true,
    "execution": {
     "iopub.execute_input": "2022-06-10T11:16:39.762601Z",
     "iopub.status.busy": "2022-06-10T11:16:39.755405Z",
     "iopub.status.idle": "2022-06-10T11:16:39.765155Z",
     "shell.execute_reply": "2022-06-10T11:16:39.765579Z",
     "shell.execute_reply.started": "2022-06-10T11:02:51.493353Z"
    },
    "papermill": {
     "duration": 0.14895,
     "end_time": "2022-06-10T11:16:39.765730",
     "exception": false,
     "start_time": "2022-06-10T11:16:39.616780",
     "status": "completed"
    },
    "tags": []
   },
   "outputs": [],
   "source": [
    "renewable.head()"
   ]
  },
  {
   "cell_type": "code",
   "execution_count": null,
   "id": "b03feae3",
   "metadata": {
    "_kg_hide-input": true,
    "execution": {
     "iopub.execute_input": "2022-06-10T11:16:40.113226Z",
     "iopub.status.busy": "2022-06-10T11:16:40.112600Z",
     "iopub.status.idle": "2022-06-10T11:16:40.113916Z",
     "shell.execute_reply": "2022-06-10T11:16:40.114467Z",
     "shell.execute_reply.started": "2022-06-10T11:02:52.663617Z"
    },
    "papermill": {
     "duration": 0.198822,
     "end_time": "2022-06-10T11:16:40.114616",
     "exception": false,
     "start_time": "2022-06-10T11:16:39.915794",
     "status": "completed"
    },
    "tags": []
   },
   "outputs": [],
   "source": [
    "renewable.set_index('Mode of Generation', inplace=True) "
   ]
  },
  {
   "cell_type": "code",
   "execution_count": null,
   "id": "362726fc",
   "metadata": {
    "_kg_hide-input": true,
    "execution": {
     "iopub.execute_input": "2022-06-10T11:16:40.505063Z",
     "iopub.status.busy": "2022-06-10T11:16:40.504143Z",
     "iopub.status.idle": "2022-06-10T11:16:40.505799Z",
     "shell.execute_reply": "2022-06-10T11:16:40.506348Z",
     "shell.execute_reply.started": "2022-06-10T11:02:55.194726Z"
    },
    "papermill": {
     "duration": 0.19994,
     "end_time": "2022-06-10T11:16:40.506512",
     "exception": false,
     "start_time": "2022-06-10T11:16:40.306572",
     "status": "completed"
    },
    "tags": []
   },
   "outputs": [],
   "source": [
    "renewable.drop(labels='Total', inplace=True)"
   ]
  },
  {
   "cell_type": "code",
   "execution_count": null,
   "id": "9eee83f0",
   "metadata": {
    "_kg_hide-input": true,
    "execution": {
     "iopub.execute_input": "2022-06-10T11:16:40.893371Z",
     "iopub.status.busy": "2022-06-10T11:16:40.892492Z",
     "iopub.status.idle": "2022-06-10T11:16:41.233939Z",
     "shell.execute_reply": "2022-06-10T11:16:41.234544Z",
     "shell.execute_reply.started": "2022-06-10T11:03:21.927647Z"
    },
    "papermill": {
     "duration": 0.536754,
     "end_time": "2022-06-10T11:16:41.234728",
     "exception": false,
     "start_time": "2022-06-10T11:16:40.697974",
     "status": "completed"
    },
    "tags": []
   },
   "outputs": [],
   "source": [
    "rg = renewable.plot.bar(figsize=(15, 8), edgecolor='black')\n",
    "plt.title('Type of renewable energy source.')\n",
    "for u, w in enumerate(renewable['Contribution (TWh)']):\n",
    "    rg.text(u, w, str(w), bbox=dict(facecolor='y'), fontsize=15, ha='center')\n",
    "plt.show()"
   ]
  },
  {
   "cell_type": "markdown",
   "id": "8f8850c1",
   "metadata": {
    "papermill": {
     "duration": 0.194813,
     "end_time": "2022-06-10T11:16:42.015553",
     "exception": false,
     "start_time": "2022-06-10T11:16:41.820740",
     "status": "completed"
    },
    "tags": []
   },
   "source": [
    "<div class=h1> VI. Top 20 countries power generation </div>"
   ]
  },
  {
   "cell_type": "code",
   "execution_count": null,
   "id": "718c3e4e",
   "metadata": {
    "_kg_hide-input": true,
    "execution": {
     "iopub.execute_input": "2022-06-10T11:16:42.405256Z",
     "iopub.status.busy": "2022-06-10T11:16:42.404631Z",
     "iopub.status.idle": "2022-06-10T11:16:42.416080Z",
     "shell.execute_reply": "2022-06-10T11:16:42.415501Z",
     "shell.execute_reply.started": "2022-06-10T11:03:37.080278Z"
    },
    "papermill": {
     "duration": 0.20714,
     "end_time": "2022-06-10T11:16:42.416218",
     "exception": false,
     "start_time": "2022-06-10T11:16:42.209078",
     "status": "completed"
    },
    "tags": []
   },
   "outputs": [],
   "source": [
    "topcountries = pd.read_csv('top20CountriesPowerGeneration.csv')"
   ]
  },
  {
   "cell_type": "code",
   "execution_count": null,
   "id": "3cd3c038",
   "metadata": {
    "_kg_hide-input": true,
    "execution": {
     "iopub.execute_input": "2022-06-10T11:16:42.809103Z",
     "iopub.status.busy": "2022-06-10T11:16:42.808253Z",
     "iopub.status.idle": "2022-06-10T11:16:42.822500Z",
     "shell.execute_reply": "2022-06-10T11:16:42.823029Z",
     "shell.execute_reply.started": "2022-06-10T11:03:39.982528Z"
    },
    "papermill": {
     "duration": 0.212446,
     "end_time": "2022-06-10T11:16:42.823201",
     "exception": false,
     "start_time": "2022-06-10T11:16:42.610755",
     "status": "completed"
    },
    "tags": []
   },
   "outputs": [],
   "source": [
    "topcountries.head(20)"
   ]
  },
  {
   "cell_type": "code",
   "execution_count": null,
   "id": "8f094e4f",
   "metadata": {
    "_kg_hide-input": true,
    "_kg_hide-output": true,
    "execution": {
     "iopub.execute_input": "2022-06-10T11:16:43.215380Z",
     "iopub.status.busy": "2022-06-10T11:16:43.214624Z",
     "iopub.status.idle": "2022-06-10T11:16:43.227043Z",
     "shell.execute_reply": "2022-06-10T11:16:43.226355Z",
     "shell.execute_reply.started": "2022-06-10T11:03:41.617952Z"
    },
    "papermill": {
     "duration": 0.209701,
     "end_time": "2022-06-10T11:16:43.227188",
     "exception": false,
     "start_time": "2022-06-10T11:16:43.017487",
     "status": "completed"
    },
    "tags": []
   },
   "outputs": [],
   "source": [
    "topcountries.info()"
   ]
  },
  {
   "cell_type": "markdown",
   "id": "30a43879",
   "metadata": {
    "papermill": {
     "duration": 0.196928,
     "end_time": "2022-06-10T11:16:43.621047",
     "exception": false,
     "start_time": "2022-06-10T11:16:43.424119",
     "status": "completed"
    },
    "tags": []
   },
   "source": [
    "Top 20 countries use 4 renewables energies. Let's visualize the total renewable energy generated. "
   ]
  },
  {
   "cell_type": "code",
   "execution_count": null,
   "id": "6293c57f",
   "metadata": {
    "_kg_hide-input": true,
    "execution": {
     "iopub.execute_input": "2022-06-10T11:16:44.020989Z",
     "iopub.status.busy": "2022-06-10T11:16:44.019190Z",
     "iopub.status.idle": "2022-06-10T11:16:44.036423Z",
     "shell.execute_reply": "2022-06-10T11:16:44.035690Z",
     "shell.execute_reply.started": "2022-06-10T11:03:46.777513Z"
    },
    "papermill": {
     "duration": 0.219976,
     "end_time": "2022-06-10T11:16:44.036582",
     "exception": false,
     "start_time": "2022-06-10T11:16:43.816606",
     "status": "completed"
    },
    "tags": []
   },
   "outputs": [],
   "source": [
    "topcountries.describe()"
   ]
  },
  {
   "cell_type": "code",
   "execution_count": null,
   "id": "34cdabe5",
   "metadata": {
    "_kg_hide-input": true,
    "execution": {
     "iopub.execute_input": "2022-06-10T11:16:44.431049Z",
     "iopub.status.busy": "2022-06-10T11:16:44.430345Z",
     "iopub.status.idle": "2022-06-10T11:16:44.865865Z",
     "shell.execute_reply": "2022-06-10T11:16:44.866510Z",
     "shell.execute_reply.started": "2022-06-10T11:03:48.806576Z"
    },
    "papermill": {
     "duration": 0.635072,
     "end_time": "2022-06-10T11:16:44.866686",
     "exception": false,
     "start_time": "2022-06-10T11:16:44.231614",
     "status": "completed"
    },
    "tags": []
   },
   "outputs": [],
   "source": [
    "topcountries.drop(columns='Total (TWh)').plot.box(subplots=True, figsize=(15,5),\n",
    "                                                  title='Type of renewable boxplot')\n",
    "plt.show()"
   ]
  },
  {
   "cell_type": "code",
   "execution_count": null,
   "id": "989d8cd9",
   "metadata": {
    "_kg_hide-input": true,
    "execution": {
     "iopub.execute_input": "2022-06-10T11:16:45.592825Z",
     "iopub.status.busy": "2022-06-10T11:16:45.592268Z",
     "iopub.status.idle": "2022-06-10T11:16:45.869724Z",
     "shell.execute_reply": "2022-06-10T11:16:45.869263Z",
     "shell.execute_reply.started": "2022-06-10T11:04:55.764738Z"
    },
    "papermill": {
     "duration": 0.421591,
     "end_time": "2022-06-10T11:16:45.869844",
     "exception": false,
     "start_time": "2022-06-10T11:16:45.448253",
     "status": "completed"
    },
    "tags": []
   },
   "outputs": [],
   "source": [
    "plt.figure(figsize=(15,5))\n",
    "sns.histplot(topcountries['Solar PV (TWh)'], bins=15)\n",
    "plt.title('Solar PV distribution')\n",
    "plt.show()"
   ]
  },
  {
   "cell_type": "code",
   "execution_count": null,
   "id": "3c058090",
   "metadata": {
    "_kg_hide-input": true,
    "execution": {
     "iopub.execute_input": "2022-06-10T11:16:46.186351Z",
     "iopub.status.busy": "2022-06-10T11:16:46.185522Z",
     "iopub.status.idle": "2022-06-10T11:16:46.616178Z",
     "shell.execute_reply": "2022-06-10T11:16:46.615338Z",
     "shell.execute_reply.started": "2022-06-10T11:05:15.691733Z"
    },
    "papermill": {
     "duration": 0.604383,
     "end_time": "2022-06-10T11:16:46.616400",
     "exception": false,
     "start_time": "2022-06-10T11:16:46.012017",
     "status": "completed"
    },
    "tags": []
   },
   "outputs": [],
   "source": [
    "gt=topcountries.plot(x='Country', y='Total (TWh)', figsize=(15, 10), kind='bar')\n",
    "plt.hlines(topcountries['Total (TWh)'].mean(), -1, 20, linestyles='dashed', label='Mean')\n",
    "plt.title('Total power generation.')\n",
    "plt.ylabel('TWh')\n",
    "gt.text(4, 1000, 'Only China, USA, Brazil and Canada have total power generation greater than 250 TWh.',\n",
    "       bbox=dict(facecolor='yellow'), fontsize=12)\n",
    "gt.vlines(1, 750, 1819, linestyles='dashdot', label='Gap')\n",
    "gt.text(1.2, 1500, f'Gap={1061.321} TWh.', bbox=dict(facecolor='red'), alpha=0.5, fontsize=12)\n",
    "plt.legend(loc='best')\n",
    "plt.show()"
   ]
  },
  {
   "cell_type": "markdown",
   "id": "7da352d3",
   "metadata": {
    "papermill": {
     "duration": 0.200199,
     "end_time": "2022-06-10T11:16:47.420267",
     "exception": false,
     "start_time": "2022-06-10T11:16:47.220068",
     "status": "completed"
    },
    "tags": []
   },
   "source": [
    "<div class=h2> VI.1. Which countries using which type of renewable energy? </div>\n",
    "\n",
    "We are going to find which type of renewable energy China use and also the 19 remaining countries. "
   ]
  },
  {
   "cell_type": "code",
   "execution_count": null,
   "id": "fb57f412",
   "metadata": {
    "_kg_hide-input": true,
    "execution": {
     "iopub.execute_input": "2022-06-10T11:16:47.829455Z",
     "iopub.status.busy": "2022-06-10T11:16:47.828739Z",
     "iopub.status.idle": "2022-06-10T11:16:47.830560Z",
     "shell.execute_reply": "2022-06-10T11:16:47.831107Z",
     "shell.execute_reply.started": "2022-06-10T11:07:04.410908Z"
    },
    "papermill": {
     "duration": 0.209495,
     "end_time": "2022-06-10T11:16:47.831320",
     "exception": false,
     "start_time": "2022-06-10T11:16:47.621825",
     "status": "completed"
    },
    "tags": []
   },
   "outputs": [],
   "source": [
    "data = topcountries.drop(columns=['Total (TWh)']).set_index('Country')"
   ]
  },
  {
   "cell_type": "code",
   "execution_count": null,
   "id": "27b08b60",
   "metadata": {
    "_kg_hide-input": true,
    "execution": {
     "iopub.execute_input": "2022-06-10T11:16:48.233242Z",
     "iopub.status.busy": "2022-06-10T11:16:48.232626Z",
     "iopub.status.idle": "2022-06-10T11:16:48.236228Z",
     "shell.execute_reply": "2022-06-10T11:16:48.236895Z",
     "shell.execute_reply.started": "2022-06-10T11:07:06.966706Z"
    },
    "papermill": {
     "duration": 0.206284,
     "end_time": "2022-06-10T11:16:48.237096",
     "exception": false,
     "start_time": "2022-06-10T11:16:48.030812",
     "status": "completed"
    },
    "tags": []
   },
   "outputs": [],
   "source": [
    "pcapipe = Pipeline([('scaler', MaxAbsScaler()), ('pca', PCA(n_components=0.95, whiten=True, random_state=0))])"
   ]
  },
  {
   "cell_type": "code",
   "execution_count": null,
   "id": "cf4561fc",
   "metadata": {
    "_kg_hide-input": true,
    "execution": {
     "iopub.execute_input": "2022-06-10T11:16:48.647722Z",
     "iopub.status.busy": "2022-06-10T11:16:48.647021Z",
     "iopub.status.idle": "2022-06-10T11:16:48.650203Z",
     "shell.execute_reply": "2022-06-10T11:16:48.649731Z",
     "shell.execute_reply.started": "2022-06-10T11:07:08.697755Z"
    },
    "papermill": {
     "duration": 0.213691,
     "end_time": "2022-06-10T11:16:48.650380",
     "exception": false,
     "start_time": "2022-06-10T11:16:48.436689",
     "status": "completed"
    },
    "tags": []
   },
   "outputs": [],
   "source": [
    "X = pcapipe.fit_transform(data)"
   ]
  },
  {
   "cell_type": "code",
   "execution_count": null,
   "id": "d36f027a",
   "metadata": {
    "_kg_hide-input": true,
    "execution": {
     "iopub.execute_input": "2022-06-10T11:16:49.004499Z",
     "iopub.status.busy": "2022-06-10T11:16:49.003340Z",
     "iopub.status.idle": "2022-06-10T11:16:49.007372Z",
     "shell.execute_reply": "2022-06-10T11:16:49.006913Z",
     "shell.execute_reply.started": "2022-06-10T11:07:11.337301Z"
    },
    "papermill": {
     "duration": 0.206776,
     "end_time": "2022-06-10T11:16:49.007512",
     "exception": false,
     "start_time": "2022-06-10T11:16:48.800736",
     "status": "completed"
    },
    "tags": []
   },
   "outputs": [],
   "source": [
    "pca = pcapipe['pca']"
   ]
  },
  {
   "cell_type": "code",
   "execution_count": null,
   "id": "ba1bc6f4",
   "metadata": {
    "_kg_hide-input": true,
    "execution": {
     "iopub.execute_input": "2022-06-10T11:16:49.356869Z",
     "iopub.status.busy": "2022-06-10T11:16:49.356119Z",
     "iopub.status.idle": "2022-06-10T11:16:49.358888Z",
     "shell.execute_reply": "2022-06-10T11:16:49.359427Z",
     "shell.execute_reply.started": "2022-06-10T11:07:16.860544Z"
    },
    "papermill": {
     "duration": 0.208768,
     "end_time": "2022-06-10T11:16:49.359615",
     "exception": false,
     "start_time": "2022-06-10T11:16:49.150847",
     "status": "completed"
    },
    "tags": []
   },
   "outputs": [],
   "source": [
    "components = pd.DataFrame(pca.components_, index=['PC1','PC2','PC3'], columns=data.columns)"
   ]
  },
  {
   "cell_type": "code",
   "execution_count": null,
   "id": "818baad0",
   "metadata": {
    "_kg_hide-input": true,
    "execution": {
     "iopub.execute_input": "2022-06-10T11:16:49.776692Z",
     "iopub.status.busy": "2022-06-10T11:16:49.766385Z",
     "iopub.status.idle": "2022-06-10T11:16:49.787092Z",
     "shell.execute_reply": "2022-06-10T11:16:49.787658Z",
     "shell.execute_reply.started": "2022-06-10T11:07:21.522865Z"
    },
    "papermill": {
     "duration": 0.226936,
     "end_time": "2022-06-10T11:16:49.787830",
     "exception": false,
     "start_time": "2022-06-10T11:16:49.560894",
     "status": "completed"
    },
    "tags": []
   },
   "outputs": [],
   "source": [
    "components.style.background_gradient('viridis')"
   ]
  },
  {
   "cell_type": "code",
   "execution_count": null,
   "id": "4b4bd46e",
   "metadata": {
    "_kg_hide-input": true,
    "execution": {
     "iopub.execute_input": "2022-06-10T11:16:50.201121Z",
     "iopub.status.busy": "2022-06-10T11:16:50.200502Z",
     "iopub.status.idle": "2022-06-10T11:16:50.561014Z",
     "shell.execute_reply": "2022-06-10T11:16:50.561697Z",
     "shell.execute_reply.started": "2022-06-10T11:13:44.495129Z"
    },
    "papermill": {
     "duration": 0.563081,
     "end_time": "2022-06-10T11:16:50.561887",
     "exception": false,
     "start_time": "2022-06-10T11:16:49.998806",
     "status": "completed"
    },
    "tags": []
   },
   "outputs": [],
   "source": [
    "plt.matshow(components.values, cmap='viridis')\n",
    "plt.grid(False)\n",
    "plt.yticks([0, 1, 2], [\"PC1\", \"PC2\", 'PC3'])\n",
    "#plt.colorbar()\n",
    "plt.xticks(range(len(components.columns)), components.columns, rotation=60, ha='left')\n",
    "plt.xlabel(\"Feature\")\n",
    "plt.ylabel(\"Principal components\")\n",
    "plt.show()"
   ]
  },
  {
   "cell_type": "code",
   "execution_count": null,
   "id": "7d9a1910",
   "metadata": {
    "_kg_hide-input": true,
    "execution": {
     "iopub.execute_input": "2022-06-10T11:16:51.403794Z",
     "iopub.status.busy": "2022-06-10T11:16:51.402682Z",
     "iopub.status.idle": "2022-06-10T11:16:51.792169Z",
     "shell.execute_reply": "2022-06-10T11:16:51.792615Z",
     "shell.execute_reply.started": "2022-06-10T11:09:31.299266Z"
    },
    "papermill": {
     "duration": 0.607031,
     "end_time": "2022-06-10T11:16:51.792767",
     "exception": false,
     "start_time": "2022-06-10T11:16:51.185736",
     "status": "completed"
    },
    "tags": []
   },
   "outputs": [],
   "source": [
    "_, axp1 = plt.subplots(1, 1, figsize=(15, 10), sharex=True)\n",
    "axp1.scatter(X[:, 0], X[:, 1], label='Figure I')\n",
    "for i, u in enumerate(data.index.tolist()):\n",
    "    axp1.annotate(u, (X[i, 0], X[i, 1]), (X[i, 0] + 0.05, X[i, 1] - 0.01), textcoords='offset points')\n",
    "\n",
    "axp1.set_title('PCA: type of renewable energy source.')\n",
    "axp1.set_ylabel('PC2')\n",
    "axp1.set_xlabel('PC1')\n",
    "axp1.legend(loc='best')\n",
    "axp1.text(1.5, 0.15, \n",
    "\"\"\"All values < 0 along PC1 axis are the value where\\nits Biofuel(TWh) < 51.15 and Solar PV(TWh) < 19.83.\\n\n",
    "All values < 0 along PC2 axis are the value where\\nits Geothermal(TWh) < 2.67.\n",
    "          \"\"\",\n",
    "         fontsize=15, bbox=dict(facecolor='red'))\n",
    "plt.show()"
   ]
  },
  {
   "cell_type": "code",
   "execution_count": null,
   "id": "1c6b1df8",
   "metadata": {
    "_kg_hide-input": true,
    "execution": {
     "iopub.execute_input": "2022-06-10T11:16:52.391492Z",
     "iopub.status.busy": "2022-06-10T11:16:52.390788Z",
     "iopub.status.idle": "2022-06-10T11:16:52.805256Z",
     "shell.execute_reply": "2022-06-10T11:16:52.804822Z",
     "shell.execute_reply.started": "2022-06-10T11:09:54.218782Z"
    },
    "papermill": {
     "duration": 0.567521,
     "end_time": "2022-06-10T11:16:52.805417",
     "exception": false,
     "start_time": "2022-06-10T11:16:52.237896",
     "status": "completed"
    },
    "tags": []
   },
   "outputs": [],
   "source": [
    "_, axp2 = plt.subplots(1, 1, figsize=(15, 10), sharex=True)\n",
    "axp2.scatter(X[:, 0], X[:, 2], label='Figure II')\n",
    "for i, u in enumerate(data.index.tolist()):\n",
    "    axp2.annotate(u, (X[i, 0], X[i, 2]), (X[i, 0] + 0.05, X[i, 1] - 0.01), textcoords='offset points')\n",
    "axp2.set_title('PCA: type of renewable energy source.')\n",
    "axp2.set_xlabel('PC1')\n",
    "axp2.set_ylabel('PC3')\n",
    "axp2.legend(loc='best')\n",
    "axp2.text(1.5, 1, \n",
    "          'USA is the leader in Geothermal energy.\\nChina is the leader in Hydro and moreless Biofuel.',\n",
    "         fontsize=15, bbox=dict(facecolor='red'))\n",
    "plt.show()"
   ]
  },
  {
   "cell_type": "code",
   "execution_count": null,
   "id": "1cfbaf4a",
   "metadata": {
    "_kg_hide-input": true,
    "execution": {
     "iopub.execute_input": "2022-06-10T11:16:54.022463Z",
     "iopub.status.busy": "2022-06-10T11:16:54.004148Z",
     "iopub.status.idle": "2022-06-10T11:16:54.339797Z",
     "shell.execute_reply": "2022-06-10T11:16:54.340459Z",
     "shell.execute_reply.started": "2022-06-10T11:10:20.206178Z"
    },
    "papermill": {
     "duration": 0.558898,
     "end_time": "2022-06-10T11:16:54.340658",
     "exception": false,
     "start_time": "2022-06-10T11:16:53.781760",
     "status": "completed"
    },
    "tags": []
   },
   "outputs": [],
   "source": [
    "plt.figure(figsize=(15,10))\n",
    "plt.scatter(X[:, 1], X[:, 2], label='Score')\n",
    "for i, u in enumerate(data.index.tolist()):\n",
    "    plt.annotate(u, (X[i, 1], X[i, 2]), (X[i, 1] + 0.05, X[i, 2] - 0.01), textcoords='offset points')\n",
    "plt.xlabel('PC2')\n",
    "plt.ylabel('PC3')\n",
    "plt.title('Type of renewable energy')\n",
    "plt.show()"
   ]
  },
  {
   "cell_type": "markdown",
   "id": "f9032538",
   "metadata": {
    "papermill": {
     "duration": 0.209164,
     "end_time": "2022-06-10T11:16:55.176916",
     "exception": false,
     "start_time": "2022-06-10T11:16:54.967752",
     "status": "completed"
    },
    "tags": []
   },
   "source": [
    "## Clustering\n",
    "\n"
   ]
  },
  {
   "cell_type": "code",
   "execution_count": null,
   "id": "e141faed",
   "metadata": {
    "_kg_hide-input": true,
    "execution": {
     "iopub.execute_input": "2022-06-10T11:16:55.601087Z",
     "iopub.status.busy": "2022-06-10T11:16:55.600365Z",
     "iopub.status.idle": "2022-06-10T11:16:55.603358Z",
     "shell.execute_reply": "2022-06-10T11:16:55.602754Z",
     "shell.execute_reply.started": "2022-06-10T11:10:31.479878Z"
    },
    "papermill": {
     "duration": 0.217773,
     "end_time": "2022-06-10T11:16:55.603501",
     "exception": false,
     "start_time": "2022-06-10T11:16:55.385728",
     "status": "completed"
    },
    "tags": []
   },
   "outputs": [],
   "source": [
    "def ward_hierarchical_clustering(feature_matrix):\n",
    "    cosine_distance = 1 - cosine_similarity(feature_matrix)\n",
    "    linkage_matrix = ward(cosine_distance)\n",
    "    #linkage_matrix = single(cosine_distance)\n",
    "    #linkage_matrix = complete(cosine_distance)\n",
    "    #linkage_matrix = average(cosine_distance)\n",
    "    return linkage_matrix"
   ]
  },
  {
   "cell_type": "code",
   "execution_count": null,
   "id": "5f3d0204",
   "metadata": {
    "_kg_hide-input": true,
    "execution": {
     "iopub.execute_input": "2022-06-10T11:16:56.035000Z",
     "iopub.status.busy": "2022-06-10T11:16:56.034028Z",
     "iopub.status.idle": "2022-06-10T11:16:56.037024Z",
     "shell.execute_reply": "2022-06-10T11:16:56.036266Z",
     "shell.execute_reply.started": "2022-06-10T11:10:33.775471Z"
    },
    "papermill": {
     "duration": 0.223732,
     "end_time": "2022-06-10T11:16:56.037173",
     "exception": false,
     "start_time": "2022-06-10T11:16:55.813441",
     "status": "completed"
    },
    "tags": []
   },
   "outputs": [],
   "source": [
    "def plot_hierarchical_clusters(linkage_matrix, data, p=100, figure_size=(11,11)):\n",
    "    # set size\n",
    "    fig, ax1 = plt.subplots(figsize=figure_size)\n",
    "    name = data.index.tolist()\n",
    "    # plot dendrogram\n",
    "    R = dendrogram(linkage_matrix, orientation=\"left\", labels=name,\n",
    "    truncate_mode='lastp', p=p, no_plot=True, ax=ax1, distance_sort=True)\n",
    "    cluster = R['leaves_color_list']\n",
    "    temp = {R[\"leaves\"][ii]: name[ii]+'__'+cluster[ii] for ii in range(len(R[\"leaves\"]))}\n",
    "    \n",
    "    def llf(xx):\n",
    "        return \"{}\".format(temp[xx])\n",
    "    \n",
    "    ax = dendrogram(linkage_matrix, truncate_mode='lastp', orientation=\"left\", p=p, leaf_label_func=llf,\n",
    "    leaf_font_size=20.,)\n",
    "    \n",
    "    plt.axvline(x=5, linestyle='--', color='black', label=\"3 clusters\")\n",
    "    plt.tick_params(axis= 'x', which='both', bottom='off', top='off', labelbottom='off')\n",
    "    plt.tight_layout()\n",
    "    plt.legend(loc='upper left')\n",
    "    plt.savefig('country_renewable_usage_hierachical_clusters.png', dpi=200)"
   ]
  },
  {
   "cell_type": "code",
   "execution_count": null,
   "id": "86bc72c8",
   "metadata": {
    "_kg_hide-input": true,
    "execution": {
     "iopub.execute_input": "2022-06-10T11:16:56.466246Z",
     "iopub.status.busy": "2022-06-10T11:16:56.465617Z",
     "iopub.status.idle": "2022-06-10T11:16:56.472885Z",
     "shell.execute_reply": "2022-06-10T11:16:56.472266Z",
     "shell.execute_reply.started": "2022-06-10T11:10:40.734353Z"
    },
    "papermill": {
     "duration": 0.226944,
     "end_time": "2022-06-10T11:16:56.473028",
     "exception": false,
     "start_time": "2022-06-10T11:16:56.246084",
     "status": "completed"
    },
    "tags": []
   },
   "outputs": [],
   "source": [
    "dist = ward_hierarchical_clustering(X)"
   ]
  },
  {
   "cell_type": "code",
   "execution_count": null,
   "id": "6101e433",
   "metadata": {
    "_kg_hide-input": true,
    "execution": {
     "iopub.execute_input": "2022-06-10T11:16:56.914479Z",
     "iopub.status.busy": "2022-06-10T11:16:56.913744Z",
     "iopub.status.idle": "2022-06-10T11:16:57.709323Z",
     "shell.execute_reply": "2022-06-10T11:16:57.709879Z",
     "shell.execute_reply.started": "2022-06-10T11:10:42.153945Z"
    },
    "papermill": {
     "duration": 1.028287,
     "end_time": "2022-06-10T11:16:57.710056",
     "exception": false,
     "start_time": "2022-06-10T11:16:56.681769",
     "status": "completed"
    },
    "scrolled": true,
    "tags": []
   },
   "outputs": [],
   "source": [
    "plot_hierarchical_clusters(dist, data)"
   ]
  },
  {
   "cell_type": "markdown",
   "id": "59585450",
   "metadata": {
    "papermill": {
     "duration": 0.210434,
     "end_time": "2022-06-10T11:16:58.978354",
     "exception": false,
     "start_time": "2022-06-10T11:16:58.767920",
     "status": "completed"
    },
    "tags": []
   },
   "source": [
    "<div class=h2>VI.2. Which types of renewable are improving the fastest?</div>"
   ]
  },
  {
   "cell_type": "code",
   "execution_count": null,
   "id": "59022eff",
   "metadata": {
    "_kg_hide-input": true,
    "execution": {
     "iopub.execute_input": "2022-06-10T11:16:59.404558Z",
     "iopub.status.busy": "2022-06-10T11:16:59.403877Z",
     "iopub.status.idle": "2022-06-10T11:16:59.414135Z",
     "shell.execute_reply": "2022-06-10T11:16:59.414769Z",
     "shell.execute_reply.started": "2022-06-10T11:10:57.092194Z"
    },
    "papermill": {
     "duration": 0.225075,
     "end_time": "2022-06-10T11:16:59.414966",
     "exception": false,
     "start_time": "2022-06-10T11:16:59.189891",
     "status": "completed"
    },
    "tags": []
   },
   "outputs": [],
   "source": [
    "totalpower = pd.read_csv('renewablePowerGeneration97-17.csv')"
   ]
  },
  {
   "cell_type": "code",
   "execution_count": null,
   "id": "18e6cf59",
   "metadata": {
    "_kg_hide-input": true,
    "execution": {
     "iopub.execute_input": "2022-06-10T11:16:59.842032Z",
     "iopub.status.busy": "2022-06-10T11:16:59.841397Z",
     "iopub.status.idle": "2022-06-10T11:16:59.851513Z",
     "shell.execute_reply": "2022-06-10T11:16:59.850956Z",
     "shell.execute_reply.started": "2022-06-10T11:10:57.118463Z"
    },
    "papermill": {
     "duration": 0.224147,
     "end_time": "2022-06-10T11:16:59.851648",
     "exception": false,
     "start_time": "2022-06-10T11:16:59.627501",
     "status": "completed"
    },
    "tags": []
   },
   "outputs": [],
   "source": [
    "totalpower.head()"
   ]
  },
  {
   "cell_type": "code",
   "execution_count": null,
   "id": "c1a74033",
   "metadata": {
    "_kg_hide-input": true,
    "execution": {
     "iopub.execute_input": "2022-06-10T11:17:00.277817Z",
     "iopub.status.busy": "2022-06-10T11:17:00.276669Z",
     "iopub.status.idle": "2022-06-10T11:17:00.279666Z",
     "shell.execute_reply": "2022-06-10T11:17:00.279045Z",
     "shell.execute_reply.started": "2022-06-10T11:10:57.908605Z"
    },
    "papermill": {
     "duration": 0.217752,
     "end_time": "2022-06-10T11:17:00.279832",
     "exception": false,
     "start_time": "2022-06-10T11:17:00.062080",
     "status": "completed"
    },
    "tags": []
   },
   "outputs": [],
   "source": [
    "totalpower.set_index('Year', inplace=True)"
   ]
  },
  {
   "cell_type": "code",
   "execution_count": null,
   "id": "d9583344",
   "metadata": {
    "_kg_hide-input": true,
    "execution": {
     "iopub.execute_input": "2022-06-10T11:17:00.688242Z",
     "iopub.status.busy": "2022-06-10T11:17:00.687562Z",
     "iopub.status.idle": "2022-06-10T11:17:01.488817Z",
     "shell.execute_reply": "2022-06-10T11:17:01.489250Z",
     "shell.execute_reply.started": "2022-06-10T11:10:58.433849Z"
    },
    "papermill": {
     "duration": 0.99788,
     "end_time": "2022-06-10T11:17:01.489422",
     "exception": false,
     "start_time": "2022-06-10T11:17:00.491542",
     "status": "completed"
    },
    "tags": []
   },
   "outputs": [],
   "source": [
    "totalpower.plot(figsize=(15,8), title='Type of renewable: time series', subplots=True, layout=(2,2))\n",
    "plt.show()"
   ]
  },
  {
   "cell_type": "code",
   "execution_count": null,
   "id": "8d1d8cba",
   "metadata": {
    "_kg_hide-input": true,
    "execution": {
     "iopub.execute_input": "2022-06-10T11:17:02.134673Z",
     "iopub.status.busy": "2022-06-10T11:17:02.134017Z",
     "iopub.status.idle": "2022-06-10T11:17:02.139306Z",
     "shell.execute_reply": "2022-06-10T11:17:02.139843Z",
     "shell.execute_reply.started": "2022-06-10T11:11:00.759276Z"
    },
    "papermill": {
     "duration": 0.163428,
     "end_time": "2022-06-10T11:17:02.140018",
     "exception": false,
     "start_time": "2022-06-10T11:17:01.976590",
     "status": "completed"
    },
    "tags": []
   },
   "outputs": [],
   "source": [
    "growth = totalpower.pct_change()"
   ]
  },
  {
   "cell_type": "code",
   "execution_count": null,
   "id": "f388f10a",
   "metadata": {
    "_kg_hide-input": true,
    "execution": {
     "iopub.execute_input": "2022-06-10T11:17:02.614368Z",
     "iopub.status.busy": "2022-06-10T11:17:02.613055Z",
     "iopub.status.idle": "2022-06-10T11:17:03.240377Z",
     "shell.execute_reply": "2022-06-10T11:17:03.240899Z",
     "shell.execute_reply.started": "2022-06-10T11:11:19.319784Z"
    },
    "papermill": {
     "duration": 0.886857,
     "end_time": "2022-06-10T11:17:03.241075",
     "exception": false,
     "start_time": "2022-06-10T11:17:02.354218",
     "status": "completed"
    },
    "tags": []
   },
   "outputs": [],
   "source": [
    "growth.plot(figsize=(15,8), title='Type of renewable: change rate', subplots=True,\n",
    "                        layout=(2,2))\n",
    "plt.show()"
   ]
  },
  {
   "cell_type": "markdown",
   "id": "16cdfdae",
   "metadata": {
    "papermill": {
     "duration": 0.215054,
     "end_time": "2022-06-10T11:17:03.672452",
     "exception": false,
     "start_time": "2022-06-10T11:17:03.457398",
     "status": "completed"
    },
    "tags": []
   },
   "source": [
    "Solar PV improves faster."
   ]
  },
  {
   "cell_type": "code",
   "execution_count": null,
   "id": "7fa316d4",
   "metadata": {
    "_kg_hide-input": true,
    "execution": {
     "iopub.execute_input": "2022-06-10T11:17:04.016612Z",
     "iopub.status.busy": "2022-06-10T11:17:04.015975Z",
     "iopub.status.idle": "2022-06-10T11:17:04.261596Z",
     "shell.execute_reply": "2022-06-10T11:17:04.262168Z",
     "shell.execute_reply.started": "2022-06-10T11:11:50.016114Z"
    },
    "papermill": {
     "duration": 0.424267,
     "end_time": "2022-06-10T11:17:04.262370",
     "exception": false,
     "start_time": "2022-06-10T11:17:03.838103",
     "status": "completed"
    },
    "tags": []
   },
   "outputs": [],
   "source": [
    "cg = growth['Solar PV (TWh)'].plot(figsize=(15,5), legend=True, title='Change rate')\n",
    "cg.hlines(growth['Solar PV (TWh)'].mean(), 1990, 2020, label='Mean', linestyle='dashed')\n",
    "cg.set_ylabel('Change rate')\n",
    "plt.legend(loc='best')\n",
    "plt.show()"
   ]
  }
 ],
 "metadata": {
  "kernelspec": {
   "display_name": "Python 3",
   "language": "python",
   "name": "python3"
  },
  "language_info": {
   "codemirror_mode": {
    "name": "ipython",
    "version": 3
   },
   "file_extension": ".py",
   "mimetype": "text/x-python",
   "name": "python",
   "nbconvert_exporter": "python",
   "pygments_lexer": "ipython3",
   "version": "3.8.8"
  },
  "papermill": {
   "default_parameters": {},
   "duration": 82.06578,
   "end_time": "2022-06-10T11:17:06.672756",
   "environment_variables": {},
   "exception": null,
   "input_path": "__notebook__.ipynb",
   "output_path": "__notebook__.ipynb",
   "parameters": {},
   "start_time": "2022-06-10T11:15:44.606976",
   "version": "2.3.3"
  }
 },
 "nbformat": 4,
 "nbformat_minor": 5
}
